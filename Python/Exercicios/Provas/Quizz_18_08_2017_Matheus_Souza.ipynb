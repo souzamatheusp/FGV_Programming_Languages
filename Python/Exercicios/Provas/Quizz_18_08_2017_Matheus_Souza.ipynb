{
 "cells": [
  {
   "cell_type": "markdown",
   "metadata": {},
   "source": [
    "1 - Dada a lista:"
   ]
  },
  {
   "cell_type": "code",
   "execution_count": 1,
   "metadata": {
    "collapsed": true
   },
   "outputs": [],
   "source": [
    "lista = [1,2,3,'4',5,6.3,7.4 + 2j,\"123\",[1,2,3], 93, \"98\"]"
   ]
  },
  {
   "cell_type": "markdown",
   "metadata": {},
   "source": [
    "Crie um código para imprimir o antecessor e o sucessor de cada elemento de uma lista:\n",
    "+ Caso este elemento seja inteiro, imprimir o valor;  \n",
    "+ Caso seja uma string, imprimir o inteiro correspondente;  \n",
    "+ Caso seja um real, imprima a parte inteira;\n",
    "+ Caso seja um imaginário, imprima a parte inteira e real;\n",
    "+ Caso seja uma sequência, seguie as regras acima para cada elemento da sequência.  "
   ]
  },
  {
   "cell_type": "code",
   "execution_count": 3,
   "metadata": {},
   "outputs": [
    {
     "name": "stdout",
     "output_type": "stream",
     "text": [
      "(0, 2)\n",
      "(1, 3)\n",
      "(2, 4)\n",
      "(3, 5)\n",
      "(4, 6)\n",
      "(5, 7)\n",
      "(6, 8)\n",
      "(122, 124)\n",
      "(0, 2)\n",
      "(1, 3)\n",
      "(2, 4)\n",
      "(92, 94)\n",
      "(97, 99)\n"
     ]
    }
   ],
   "source": [
    "for i in lista:\n",
    "    if not type(i) == list and not type(i) == complex:        \n",
    "        k = int(i)\n",
    "        print((k-1,k+1))\n",
    "    elif type(i) == list:\n",
    "        for j in i:\n",
    "            if not type(j) == complex:\n",
    "                k = int(j)\n",
    "            else:\n",
    "                k = int(j.real)\n",
    "            print((k-1,k+1))\n",
    "    else:\n",
    "        k = int(i.real)\n",
    "        print((k-1,k+1))\n",
    "        "
   ]
  },
  {
   "cell_type": "markdown",
   "metadata": {},
   "source": [
    "2 - Os fatores primos de 13195 são 5, 7, 13 e 29. Qual o maior fator primo de 600851475143?  \n",
    "https://projecteuler.net/problem=3  "
   ]
  },
  {
   "cell_type": "code",
   "execution_count": 62,
   "metadata": {},
   "outputs": [
    {
     "name": "stdout",
     "output_type": "stream",
     "text": [
      "386.4035334587097\n",
      "6857\n"
     ]
    }
   ],
   "source": [
    "import math\n",
    "import time\n",
    "t = time.time()\n",
    "n = 600851475143\n",
    "# = 13195\n",
    "primes = []\n",
    "factors = []\n",
    "for i in range(2,int(math.sqrt(n))):\n",
    "    comp = 0\n",
    "    for j in primes:\n",
    "        if i%j == 0:\n",
    "            comp = 1\n",
    "            break\n",
    "    if not comp:\n",
    "        primes.append(i)\n",
    "        if n%i == 0:\n",
    "            factors.append(i)\n",
    "print(time.time()-t)\n",
    "print(factors.pop())"
   ]
  },
  {
   "cell_type": "markdown",
   "metadata": {},
   "source": [
    "3- Crie um programa que imprima os números de 1 a 100, mas nos múltiplos de 3 imprima “Fizz” em vez do  número e nos múltiplos de 5 imprima “Buzz”. Para os números que são múltiplos de tanto 3 como 5, imprima “FizzBuzz”.  "
   ]
  },
  {
   "cell_type": "code",
   "execution_count": null,
   "metadata": {
    "collapsed": true
   },
   "outputs": [],
   "source": [
    "for i in range(1,100):\n",
    "    s = \"\"\n",
    "    if i%3 == 0:\n",
    "        s += \"Fizz\"\n",
    "    if i%5 == 0:\n",
    "        s += \"Buzz\"\n",
    "    if len(s) == 0:\n",
    "        print(i)\n",
    "    else:\n",
    "        print(s)"
   ]
  },
  {
   "cell_type": "markdown",
   "metadata": {},
   "source": [
    "4- Usando a biblioteca \"random\", crie um programa para calcular a média da soma de dois dados de 6 faces (D6) em 10000 lançamentos."
   ]
  },
  {
   "cell_type": "code",
   "execution_count": 38,
   "metadata": {
    "collapsed": true
   },
   "outputs": [],
   "source": [
    "import random\n",
    "\n",
    "s = 0\n",
    "for i in range(1,10000):\n",
    "    a = random.randrange(1,6)\n",
    "    b = random.randrange(1,6)\n",
    "    s += a + b\n",
    "s = s/10000\n",
    "#print(s)"
   ]
  },
  {
   "cell_type": "code",
   "execution_count": null,
   "metadata": {
    "collapsed": true
   },
   "outputs": [],
   "source": []
  }
 ],
 "metadata": {
  "kernelspec": {
   "display_name": "Python 3",
   "language": "python",
   "name": "python3"
  },
  "language_info": {
   "codemirror_mode": {
    "name": "ipython",
    "version": 3
   },
   "file_extension": ".py",
   "mimetype": "text/x-python",
   "name": "python",
   "nbconvert_exporter": "python",
   "pygments_lexer": "ipython3",
   "version": "3.5.2+"
  }
 },
 "nbformat": 4,
 "nbformat_minor": 2
}

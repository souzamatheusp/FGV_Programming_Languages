{
 "cells": [
  {
   "cell_type": "markdown",
   "metadata": {},
   "source": [
    "1 - Dada a string abaixo:"
   ]
  },
  {
   "cell_type": "code",
   "execution_count": 12,
   "metadata": {
    "collapsed": true
   },
   "outputs": [],
   "source": [
    "jgr = 'Só se pode viver perto de outro, e conhecer outra pessoa, \\\n",
    "sem perigo de ódio, se a gente tem amor. Qualquer amor já é um pouquinho \\\n",
    "de saúde, um descanso na loucura.'"
   ]
  },
  {
   "cell_type": "markdown",
   "metadata": {},
   "source": [
    "Use uma list comprehension para criar uma lista de tuplas na forma:\n",
    "(palavra em maiúscula, palavra em minúscula, tamanho da palavra)"
   ]
  },
  {
   "cell_type": "code",
   "execution_count": 29,
   "metadata": {},
   "outputs": [
    {
     "data": {
      "text/plain": [
       "[('SÓ', 'só', 2),\n",
       " ('SE', 'se', 2),\n",
       " ('PODE', 'pode', 4),\n",
       " ('VIVER', 'viver', 5),\n",
       " ('PERTO', 'perto', 5),\n",
       " ('DE', 'de', 2),\n",
       " ('OUTRO,', 'outro,', 6),\n",
       " ('E', 'e', 1),\n",
       " ('CONHECER', 'conhecer', 8),\n",
       " ('OUTRA', 'outra', 5),\n",
       " ('PESSOA,', 'pessoa,', 7),\n",
       " ('SEM', 'sem', 3),\n",
       " ('PERIGO', 'perigo', 6),\n",
       " ('DE', 'de', 2),\n",
       " ('ÓDIO,', 'ódio,', 5),\n",
       " ('SE', 'se', 2),\n",
       " ('A', 'a', 1),\n",
       " ('GENTE', 'gente', 5),\n",
       " ('TEM', 'tem', 3),\n",
       " ('AMOR.', 'amor.', 5),\n",
       " ('QUALQUER', 'qualquer', 8),\n",
       " ('AMOR', 'amor', 4),\n",
       " ('JÁ', 'já', 2),\n",
       " ('É', 'é', 1),\n",
       " ('UM', 'um', 2),\n",
       " ('POUQUINHO', 'pouquinho', 9),\n",
       " ('DE', 'de', 2),\n",
       " ('SAÚDE,', 'saúde,', 6),\n",
       " ('UM', 'um', 2),\n",
       " ('DESCANSO', 'descanso', 8),\n",
       " ('NA', 'na', 2),\n",
       " ('LOUCURA', 'loucura', 7)]"
      ]
     },
     "execution_count": 29,
     "metadata": {},
     "output_type": "execute_result"
    }
   ],
   "source": [
    "import string\n",
    "lista = [(palavra.upper(),palavra.lower(),len(palavra)) for palavra in jgr.strip(string.punctuation).split(' ')]\n",
    "lista"
   ]
  },
  {
   "cell_type": "markdown",
   "metadata": {},
   "source": [
    "2 - Extraia, do texto abaixo, um dicionário de frequências de palavras na forma {palavra: frequência}. Limpe o texto o quanto for possível."
   ]
  },
  {
   "cell_type": "code",
   "execution_count": 31,
   "metadata": {
    "collapsed": true
   },
   "outputs": [],
   "source": [
    "texto = '''\n",
    "-\n",
    "\n",
    "'''"
   ]
  },
  {
   "cell_type": "code",
   "execution_count": null,
   "metadata": {
    "collapsed": true
   },
   "outputs": [],
   "source": []
  },
  {
   "cell_type": "markdown",
   "metadata": {},
   "source": [
    "3- Dadas as características do Calendário Gregoriano:  \n",
    "\n",
    " + Janeiro, Março, Maio, Julho, Agosto, Outubro e Dezembro têm trinta e um dias;\n",
    " + Abril, Junho, Setembro e Novembro têm trinta dias;\n",
    " + Fevereiro tem 28 dias, exceto em anos bissextos, quando tem 29.\n",
    " + Anos bissextos ocorrem quando o ano for divisível por 4, mas não quando for divisível por 100, exceto quando for divisível também por 400.\n",
    " \n",
    " + 1o de Janeiro de 1900 caiu em uma segunda-feira.\n",
    "\n",
    "Responda: Quantos sábados cairam no dia primeiro do mês durante o século XX? (1o de Janeiro de 1901 até 31 Dezembro de 2000)?\n"
   ]
  },
  {
   "cell_type": "code",
   "execution_count": null,
   "metadata": {
    "collapsed": true
   },
   "outputs": [],
   "source": []
  },
  {
   "cell_type": "markdown",
   "metadata": {},
   "source": [
    "4- Procure gerar um número (pseudo-)aleatório entre 0 e 9 de forma criativa, usando funções geradoras e o módulo time. \n",
    "Não utilize o módulo random."
   ]
  },
  {
   "cell_type": "code",
   "execution_count": null,
   "metadata": {
    "collapsed": true
   },
   "outputs": [],
   "source": [
    "## exemplo para inspirar vocês. Há que se verificar se os números gerados parecem ser aleatórios.\n",
    "import time\n",
    "\n",
    "def numero_aleatorio():\n",
    "    x = time.time()\n",
    "    while True:\n",
    "        num = time.time() - x\n",
    "        #print(num)\n",
    "        num = [n for n in str(num) if n.isdigit()]\n",
    "        num = num[6]\n",
    "        yield int(num)"
   ]
  },
  {
   "cell_type": "code",
   "execution_count": 19,
   "metadata": {
    "collapsed": true
   },
   "outputs": [],
   "source": [
    "gen = numero_aleatorio()"
   ]
  },
  {
   "cell_type": "code",
   "execution_count": 20,
   "metadata": {
    "collapsed": true
   },
   "outputs": [],
   "source": [
    "import traceback\n",
    "import logging\n",
    "\n",
    "numeros = []\n",
    "for n in range(100000):\n",
    "    try:\n",
    "        numeros.append(next(gen))\n",
    "    except Exception as e:\n",
    "        logging.error(traceback.format_exc())"
   ]
  },
  {
   "cell_type": "code",
   "execution_count": 15,
   "metadata": {
    "collapsed": true
   },
   "outputs": [],
   "source": [
    "from collections import Counter\n",
    "freqdist = Counter(numeros)"
   ]
  },
  {
   "cell_type": "code",
   "execution_count": 21,
   "metadata": {},
   "outputs": [
    {
     "data": {
      "text/plain": [
       "Counter({0: 22586,\n",
       "         1: 22596,\n",
       "         2: 22895,\n",
       "         3: 22689,\n",
       "         4: 22204,\n",
       "         5: 22384,\n",
       "         6: 22025,\n",
       "         7: 21918,\n",
       "         8: 22427,\n",
       "         9: 22778})"
      ]
     },
     "execution_count": 21,
     "metadata": {},
     "output_type": "execute_result"
    }
   ],
   "source": [
    "freqdist"
   ]
  },
  {
   "cell_type": "code",
   "execution_count": null,
   "metadata": {
    "collapsed": true
   },
   "outputs": [],
   "source": []
  }
 ],
 "metadata": {
  "kernelspec": {
   "display_name": "Python 3",
   "language": "python",
   "name": "python3"
  },
  "language_info": {
   "codemirror_mode": {
    "name": "ipython",
    "version": 3
   },
   "file_extension": ".py",
   "mimetype": "text/x-python",
   "name": "python",
   "nbconvert_exporter": "python",
   "pygments_lexer": "ipython3",
   "version": "3.5.2+"
  }
 },
 "nbformat": 4,
 "nbformat_minor": 2
}

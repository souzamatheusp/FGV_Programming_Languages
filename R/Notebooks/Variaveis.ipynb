{
 "cells": [
  {
   "cell_type": "markdown",
   "metadata": {
    "collapsed": false
   },
   "source": [
    "# Variáveis:"
   ]
  },
  {
   "cell_type": "markdown",
   "metadata": {
    "collapsed": false
   },
   "source": [
    "Nomearemos as variáveis seguindo a seguinte regra:\n",
    "- podemos usar letras, números, underscore e ponto final;\n",
    "- $\\textbf{não}$ podemos iniciar o nome com números ou undercore;\n",
    "- podemos iniciar um nome com $\\textbf{.}$ , exceto quando o ponto é precedido por um número."
   ]
  },
  {
   "cell_type": "markdown",
   "metadata": {
    "collapsed": false
   },
   "source": [
    "Agora observe:"
   ]
  },
  {
   "cell_type": "code",
   "execution_count": 1,
   "metadata": {
    "collapsed": false
   },
   "outputs": [
    {
     "name": "stdout",
     "output_type": "stream",
     "text": [
      "[1] 12\n"
     ]
    }
   ],
   "source": [
    "var.x <- 12          # atribuição da diteita para a esquerda com a seta\n",
    "print(var.x)"
   ]
  },
  {
   "cell_type": "code",
   "execution_count": 2,
   "metadata": {
    "collapsed": false
   },
   "outputs": [
    {
     "name": "stdout",
     "output_type": "stream",
     "text": [
      "[1] 27\n"
     ]
    }
   ],
   "source": [
    "27 -> var.a       # atribuição da esquerda para a direita com a seta\n",
    "print(var.a)"
   ]
  },
  {
   "cell_type": "code",
   "execution_count": 3,
   "metadata": {
    "collapsed": false
   },
   "outputs": [
    {
     "name": "stdout",
     "output_type": "stream",
     "text": [
      "[1] 120\n"
     ]
    }
   ],
   "source": [
    "var.b = 120       # atribuição com o sinal de igual\n",
    "print(var.b)"
   ]
  },
  {
   "cell_type": "markdown",
   "metadata": {
    "collapsed": false
   },
   "source": [
    "Podemos atribuir valores às variáves dessas três formas!!!\n",
    "\n",
    "Além da função $\\textbf{print ( )}$, podemos usar a função $\\textbf{cat ()}$ para combinar vários itens em uma saída de impressão contínua"
   ]
  },
  {
   "cell_type": "code",
   "execution_count": 4,
   "metadata": {
    "collapsed": false
   },
   "outputs": [
    {
     "name": "stdout",
     "output_type": "stream",
     "text": [
      "var.x vale  12 \n"
     ]
    },
    {
     "name": "stdout",
     "output_type": "stream",
     "text": [
      "var.a vale  27 \n"
     ]
    },
    {
     "name": "stdout",
     "output_type": "stream",
     "text": [
      "var.b vale  120 \n"
     ]
    }
   ],
   "source": [
    "cat (\"var.x vale \", var.x, \"\\n\")\n",
    "cat (\"var.a vale \", var.a ,\"\\n\")\n",
    "cat (\"var.b vale \", var.b ,\"\\n\")"
   ]
  },
  {
   "cell_type": "markdown",
   "metadata": {
    "collapsed": false
   },
   "source": [
    "### Descobrindo as variáveis:\n",
    "\n",
    "Para descobrirmos todas as variáveis que estão sendo usadas nós usamos a função $\\textbf{ls ( )}$"
   ]
  },
  {
   "cell_type": "code",
   "execution_count": 5,
   "metadata": {
    "collapsed": false
   },
   "outputs": [
    {
     "name": "stdout",
     "output_type": "stream",
     "text": [
      "[1] \"var.a\" \"var.b\" \"var.x\"\n"
     ]
    }
   ],
   "source": [
    "print(ls())"
   ]
  },
  {
   "cell_type": "markdown",
   "metadata": {
    "collapsed": false
   },
   "source": [
    "Agora iremos ver outra utilidade da função ls()"
   ]
  },
  {
   "cell_type": "code",
   "execution_count": 6,
   "metadata": {
    "collapsed": false
   },
   "outputs": [
    {
     "name": "stdout",
     "output_type": "stream",
     "text": [
      "[1] \"var.a\" \"var.b\" \"var.x\"\n"
     ]
    }
   ],
   "source": [
    "# Listando todas as variáveis que começam com \"var\"\n",
    "print(ls(pattern = \"var\"))"
   ]
  },
  {
   "cell_type": "code",
   "execution_count": 7,
   "metadata": {
    "collapsed": false
   },
   "outputs": [
    {
     "name": "stdout",
     "output_type": "stream",
     "text": [
      "[1] \".pbd_env\" \"var.a\"    \"var.b\"    \"var.x\"   \n"
     ]
    }
   ],
   "source": [
    "# Variáveis que começam com . são escondidas, para mostrá-las devemos usar all.names=TRUE, veja:\n",
    "print(ls(all.names = TRUE))"
   ]
  },
  {
   "cell_type": "markdown",
   "metadata": {
    "collapsed": false
   },
   "source": [
    "## Deletando variáveis:\n",
    "\n",
    "Para deletar variáveis usamos $\\textbf{rm ()}$"
   ]
  },
  {
   "cell_type": "code",
   "execution_count": 8,
   "metadata": {
    "collapsed": false
   },
   "outputs": [
    {
     "name": "stdout",
     "output_type": "stream",
     "text": [
      "[1] 12\n"
     ]
    }
   ],
   "source": [
    "print(var.x)"
   ]
  },
  {
   "cell_type": "code",
   "execution_count": 9,
   "metadata": {
    "collapsed": false
   },
   "outputs": [
    {
     "ename": "ERROR",
     "evalue": "Error in print(var.x): object 'var.x' not found\n",
     "output_type": "error",
     "traceback": [
      "Error in print(var.x): object 'var.x' not found\nTraceback:\n",
      "1. print(var.x)"
     ]
    }
   ],
   "source": [
    "rm(var.x)\n",
    "print(var.x)"
   ]
  },
  {
   "cell_type": "code",
   "execution_count": 0,
   "metadata": {
    "collapsed": false
   },
   "outputs": [
   ],
   "source": [
    "rm(list = ls())  # Deletando todas as variáveis!\n",
    "print(ls())"
   ]
  },
  {
   "cell_type": "markdown",
   "metadata": {
    "collapsed": false
   },
   "source": [
    "# Operadores Aritméticos e lógicos:\n",
    "\n",
    "Os operadores agirão em cada um dos elementos do vetor"
   ]
  },
  {
   "cell_type": "markdown",
   "metadata": {
    "collapsed": false
   },
   "source": [
    "- ADIÇÃO: $\\textbf{( + )}$"
   ]
  },
  {
   "cell_type": "code",
   "execution_count": 10,
   "metadata": {
    "collapsed": false
   },
   "outputs": [
    {
     "name": "stdout",
     "output_type": "stream",
     "text": [
      "[1]  8.0  7.0  7.0 14.7\n"
     ]
    }
   ],
   "source": [
    "a = c(1,2,4,5.7) \n",
    "b = c(7,5,3,9)\n",
    "print(a+b)"
   ]
  },
  {
   "cell_type": "markdown",
   "metadata": {
    "collapsed": false
   },
   "source": [
    "- SUBTRAÇÃO:      $\\textbf{( - )}$"
   ]
  },
  {
   "cell_type": "code",
   "execution_count": 11,
   "metadata": {
    "collapsed": false
   },
   "outputs": [
    {
     "name": "stdout",
     "output_type": "stream",
     "text": [
      "[1] -6.0 -3.0  1.0 -3.3\n"
     ]
    }
   ],
   "source": [
    "a = c(1,2,4,5.7)\n",
    "b = c(7,5,3,9)\n",
    "print(a-b)"
   ]
  },
  {
   "cell_type": "markdown",
   "metadata": {
    "collapsed": false
   },
   "source": [
    "- MULTIPLICAÇÃO: $\\textbf{( * )}$"
   ]
  },
  {
   "cell_type": "code",
   "execution_count": 33,
   "metadata": {
    "collapsed": false
   },
   "outputs": [
    {
     "name": "stdout",
     "output_type": "stream",
     "text": [
      "[1]  6 12 20 12\n"
     ]
    }
   ],
   "source": [
    "c = c(2,3,4,2)\n",
    "d = c(3,4,5,6)\n",
    "print(c*d)"
   ]
  },
  {
   "cell_type": "markdown",
   "metadata": {
    "collapsed": false
   },
   "source": [
    "- DIVISÃO: $\\textbf{( / )}$"
   ]
  },
  {
   "cell_type": "code",
   "execution_count": 36,
   "metadata": {
    "collapsed": false
   },
   "outputs": [
    {
     "name": "stdout",
     "output_type": "stream",
     "text": [
      "[1] 5 3 9\n"
     ]
    }
   ],
   "source": [
    "e = c(15,12,81)\n",
    "f = c(3,4,9)\n",
    "print(e/f)"
   ]
  },
  {
   "cell_type": "markdown",
   "metadata": {
    "collapsed": false
   },
   "source": [
    "- RESTO: $\\textbf{( %% )}$"
   ]
  },
  {
   "cell_type": "code",
   "execution_count": 3,
   "metadata": {
    "collapsed": false
   },
   "outputs": [
    {
     "name": "stdout",
     "output_type": "stream",
     "text": [
      "[1] 2.0 2.5 2.0\n"
     ]
    }
   ],
   "source": [
    "v <- c(2, 5.5, 6)\n",
    "t <- c(8, 3, 4)\n",
    "print(v%%t)"
   ]
  },
  {
   "cell_type": "markdown",
   "metadata": {
    "collapsed": false
   },
   "source": [
    "- QUOCIENTE: $\\textbf{( %/% )}$"
   ]
  },
  {
   "cell_type": "code",
   "execution_count": 4,
   "metadata": {
    "collapsed": false
   },
   "outputs": [
    {
     "name": "stdout",
     "output_type": "stream",
     "text": [
      "[1] 0 1 1\n"
     ]
    }
   ],
   "source": [
    "v <- c(2, 5.5, 6)\n",
    "t <- c(8, 3, 4)\n",
    "print(v%/%t)"
   ]
  },
  {
   "cell_type": "markdown",
   "metadata": {
    "collapsed": false
   },
   "source": [
    "- POTÊNCIA: ( ^ )"
   ]
  },
  {
   "cell_type": "code",
   "execution_count": 12,
   "metadata": {
    "collapsed": false
   },
   "outputs": [
    {
     "name": "stdout",
     "output_type": "stream",
     "text": [
      "[1]  4 81 32\n"
     ]
    }
   ],
   "source": [
    "i <- c( 2, 3, 2)\n",
    "h <- c( 2, 4, 5)\n",
    "print(i^h)"
   ]
  },
  {
   "cell_type": "markdown",
   "metadata": {
    "collapsed": false
   },
   "source": [
    "- MAIOR: ( > ) "
   ]
  },
  {
   "cell_type": "code",
   "execution_count": 13,
   "metadata": {
    "collapsed": false
   },
   "outputs": [
    {
     "name": "stdout",
     "output_type": "stream",
     "text": [
      "[1] FALSE  TRUE FALSE FALSE\n"
     ]
    }
   ],
   "source": [
    "g <- c(2,5.5,6,9) \n",
    "j <- c(8,2.5,14,9)\n",
    "print(g>j)"
   ]
  },
  {
   "cell_type": "markdown",
   "metadata": {
    "collapsed": false
   },
   "source": [
    "- MENOR: ( < ) "
   ]
  },
  {
   "cell_type": "code",
   "execution_count": 16,
   "metadata": {
    "collapsed": false
   },
   "outputs": [
    {
     "name": "stdout",
     "output_type": "stream",
     "text": [
      "[1] FALSE FALSE  TRUE FALSE\n"
     ]
    }
   ],
   "source": [
    "k <- c(18,5,6,9)\n",
    "l <- c(8,5,14,7)\n",
    "print(k < l)"
   ]
  },
  {
   "cell_type": "markdown",
   "metadata": {
    "collapsed": false
   },
   "source": [
    "- IGUAL: ( == )"
   ]
  },
  {
   "cell_type": "code",
   "execution_count": 18,
   "metadata": {
    "collapsed": false
   },
   "outputs": [
    {
     "name": "stdout",
     "output_type": "stream",
     "text": [
      "[1]  TRUE FALSE FALSE  TRUE\n"
     ]
    }
   ],
   "source": [
    "m <- c(2,5,16,9)\n",
    "n <- c(2,2,14,9)\n",
    "print(m == n)"
   ]
  },
  {
   "cell_type": "markdown",
   "metadata": {
    "collapsed": false
   },
   "source": [
    "- MAIOR OU IGUAL: ( >= )"
   ]
  },
  {
   "cell_type": "code",
   "execution_count": 20,
   "metadata": {
    "collapsed": false
   },
   "outputs": [
    {
     "name": "stdout",
     "output_type": "stream",
     "text": [
      "[1]  TRUE FALSE FALSE  TRUE\n"
     ]
    }
   ],
   "source": [
    "o <- c(3,6,8,7)\n",
    "p <- c(8,2,0,7)\n",
    "print(o<=p)"
   ]
  },
  {
   "cell_type": "markdown",
   "metadata": {
    "collapsed": false
   },
   "source": [
    "- MENOR OU IGUAL: ( <= )"
   ]
  },
  {
   "cell_type": "code",
   "execution_count": 22,
   "metadata": {
    "collapsed": false
   },
   "outputs": [
    {
     "name": "stdout",
     "output_type": "stream",
     "text": [
      "[1]  TRUE FALSE  TRUE FALSE\n"
     ]
    }
   ],
   "source": [
    "q <- c(26,15,16,4)\n",
    "r <- c(8,25,14,9)\n",
    "print(q>=r)"
   ]
  },
  {
   "cell_type": "markdown",
   "metadata": {
    "collapsed": false
   },
   "source": [
    "- DIFERENTE: ( != )"
   ]
  },
  {
   "cell_type": "code",
   "execution_count": 23,
   "metadata": {
    "collapsed": false
   },
   "outputs": [
    {
     "name": "stdout",
     "output_type": "stream",
     "text": [
      "[1]  TRUE FALSE  TRUE FALSE\n"
     ]
    }
   ],
   "source": [
    "s <- c(12,5,6,19)\n",
    "u <- c(8,5,14,19)\n",
    "print(s!=u)"
   ]
  },
  {
   "cell_type": "markdown",
   "metadata": {
    "collapsed": false
   },
   "source": [
    "Os operadores lógicos são aplicados somente para vetores de tipos lógicos, numéricos e complexos. Todos os números maiores de 1 são TRUE e o valor de resposta é dado a partir da comparação dos valores lógicos do elemento do primeiro vetor com o do segundo."
   ]
  },
  {
   "cell_type": "markdown",
   "metadata": {
    "collapsed": false
   },
   "source": [
    "- E: ( & )"
   ]
  },
  {
   "cell_type": "code",
   "execution_count": 24,
   "metadata": {
    "collapsed": false
   },
   "outputs": [
    {
     "name": "stdout",
     "output_type": "stream",
     "text": [
      "[1]  TRUE  TRUE FALSE  TRUE\n"
     ]
    }
   ],
   "source": [
    "# Gera True somente se os dois elementos são TRUE\n",
    "x <- c(3,1,TRUE,2+3i)\n",
    "w <- c(4,1,FALSE,2+3i)\n",
    "print(x&w)"
   ]
  },
  {
   "cell_type": "markdown",
   "metadata": {
    "collapsed": false
   },
   "source": [
    "- OU: ( | )"
   ]
  },
  {
   "cell_type": "code",
   "execution_count": 26,
   "metadata": {
    "collapsed": false
   },
   "outputs": [
    {
     "name": "stdout",
     "output_type": "stream",
     "text": [
      "[1]  TRUE FALSE  TRUE  TRUE\n"
     ]
    }
   ],
   "source": [
    "# Gera TRUE se pelo menos um dos elementos é TRUE\n",
    "y <- c(3,0,TRUE,2+2i)\n",
    "z <- c(4,0,FALSE,2+3i) \n",
    "print(y|z)"
   ]
  },
  {
   "cell_type": "markdown",
   "metadata": {
    "collapsed": false
   },
   "source": [
    "- NÃO: ( ! )"
   ]
  },
  {
   "cell_type": "code",
   "execution_count": 27,
   "metadata": {
    "collapsed": false
   },
   "outputs": [
    {
     "name": "stdout",
     "output_type": "stream",
     "text": [
      "[1] FALSE  TRUE FALSE FALSE\n"
     ]
    }
   ],
   "source": [
    "v <- c(3,0,TRUE,2+2i)\n",
    "print(!v)"
   ]
  },
  {
   "cell_type": "markdown",
   "metadata": {
    "collapsed": false
   },
   "source": [
    "- CRIAÇÃO DE SEQUÊNCIAS: ( : )"
   ]
  },
  {
   "cell_type": "code",
   "execution_count": 33,
   "metadata": {
    "collapsed": false
   },
   "outputs": [
    {
     "name": "stdout",
     "output_type": "stream",
     "text": [
      " [1]  1  2  3  4  5  6  7  8  9 10\n"
     ]
    }
   ],
   "source": [
    "sequencia <<- 1:10\n",
    "print(sequencia)"
   ]
  },
  {
   "cell_type": "markdown",
   "metadata": {
    "collapsed": false
   },
   "source": [
    "- PERTENCE: (%in%)"
   ]
  },
  {
   "cell_type": "code",
   "execution_count": 34,
   "metadata": {
    "collapsed": false
   },
   "outputs": [
    {
     "name": "stdout",
     "output_type": "stream",
     "text": [
      "[1] TRUE\n"
     ]
    },
    {
     "name": "stdout",
     "output_type": "stream",
     "text": [
      "[1] FALSE\n"
     ]
    }
   ],
   "source": [
    "v1 <- 8\n",
    "v2 <- 12\n",
    "t <- 1:10\n",
    "print(v1 %in% t) \n",
    "print(v2 %in% t) "
   ]
  },
  {
   "cell_type": "markdown",
   "metadata": {
    "collapsed": false
   },
   "source": [
    "- MULTIPLICAÇÃO DE MATRIZES: ( %*% )"
   ]
  },
  {
   "cell_type": "code",
   "execution_count": 35,
   "metadata": {
    "collapsed": false
   },
   "outputs": [
    {
     "name": "stdout",
     "output_type": "stream",
     "text": [
      "     [,1] [,2]\n",
      "[1,]   65   82\n",
      "[2,]   82  117\n"
     ]
    }
   ],
   "source": [
    "M = matrix( c(2,6,5,1,10,4), nrow = 2,ncol = 3,byrow = TRUE)\n",
    "t = M %*% t(M)\n",
    "print(t)"
   ]
  },
  {
   "cell_type": "code",
   "execution_count": 0,
   "metadata": {
    "collapsed": false
   },
   "outputs": [
   ],
   "source": [
   ]
  }
 ],
 "metadata": {
  "kernelspec": {
   "display_name": "R (R-Project)",
   "language": "r",
   "name": "ir"
  }
 },
 "nbformat": 4,
 "nbformat_minor": 0
}
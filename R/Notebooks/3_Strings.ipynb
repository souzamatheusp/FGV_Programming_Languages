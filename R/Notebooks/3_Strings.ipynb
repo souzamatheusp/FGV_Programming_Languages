{
 "cells": [
  {
   "cell_type": "markdown",
   "metadata": {
    "collapsed": true
   },
   "source": [
    "# Strings"
   ]
  },
  {
   "cell_type": "markdown",
   "metadata": {},
   "source": [
    "- As aspas no início e no final de uma seqüência de caracteres podem ser tanto aspas duplas quanto as aspas simples. Elas não podem ser misturadas.\n",
    "\n",
    "- Aspas duplas podem ser inseridas em uma string começando e terminando com aspas simples.\n",
    "\n",
    "- A aspas simples podem ser inserida em uma string começando e terminando com aspas duplas.\n",
    "\n",
    "- Aspas duplas não podem ser inseridas em uma string começando e terminando com aspas duplas.\n",
    "\n",
    "- Aspas simples não podeM ser inserida em uma string começando e terminando com uma aspas simples."
   ]
  },
  {
   "cell_type": "code",
   "execution_count": 10,
   "metadata": {},
   "outputs": [
    {
     "name": "stdout",
     "output_type": "stream",
     "text": [
      "[1] \"Começando e treminando com aspas simples\"\n"
     ]
    }
   ],
   "source": [
    "a <- 'Começando e treminando com aspas simples'\n",
    "print(a)"
   ]
  },
  {
   "cell_type": "code",
   "execution_count": 4,
   "metadata": {},
   "outputs": [
    {
     "name": "stdout",
     "output_type": "stream",
     "text": [
      "[1] \"Começando e treminando com aspas duplas\"\n"
     ]
    }
   ],
   "source": [
    "b <- \"Começando e treminando com aspas duplas\"\n",
    "print(b)\n"
   ]
  },
  {
   "cell_type": "code",
   "execution_count": 5,
   "metadata": {},
   "outputs": [
    {
     "name": "stdout",
     "output_type": "stream",
     "text": [
      "[1] \"aspas simples ' entre aspas duplas\"\n"
     ]
    }
   ],
   "source": [
    "c <- \"aspas simples ' entre aspas duplas\"\n",
    "print(c)\n"
   ]
  },
  {
   "cell_type": "code",
   "execution_count": 6,
   "metadata": {},
   "outputs": [
    {
     "name": "stdout",
     "output_type": "stream",
     "text": [
      "[1] \"aspas duplas \\\" entre aspas simplese\"\n"
     ]
    }
   ],
   "source": [
    "d <- 'aspas duplas \" entre aspas simplese'\n",
    "print(d)"
   ]
  },
  {
   "cell_type": "code",
   "execution_count": 7,
   "metadata": {},
   "outputs": [
    {
     "ename": "ERROR",
     "evalue": "Error in parse(text = x, srcfile = src): <text>:1:6: unexpected INCOMPLETE_STRING\n1: e <- 'MISTURANDO AS ASPAS\" \n2: print(e)\n        ^\n",
     "output_type": "error",
     "traceback": [
      "Error in parse(text = x, srcfile = src): <text>:1:6: unexpected INCOMPLETE_STRING\n1: e <- 'MISTURANDO AS ASPAS\" \n2: print(e)\n        ^\nTraceback:\n"
     ]
    }
   ],
   "source": [
    "e <- 'MISTURANDO AS ASPAS\" \n",
    "print(e)"
   ]
  },
  {
   "cell_type": "code",
   "execution_count": 8,
   "metadata": {},
   "outputs": [
    {
     "ename": "ERROR",
     "evalue": "Error in parse(text = x, srcfile = src): <text>:1:22: unexpected symbol\n1: f <- 'Single quote ' inside\n                         ^\n",
     "output_type": "error",
     "traceback": [
      "Error in parse(text = x, srcfile = src): <text>:1:22: unexpected symbol\n1: f <- 'Single quote ' inside\n                         ^\nTraceback:\n"
     ]
    }
   ],
   "source": [
    "f <- 'Single quote ' inside single quote'\n",
    "print(f)\n"
   ]
  },
  {
   "cell_type": "code",
   "execution_count": 9,
   "metadata": {},
   "outputs": [
    {
     "ename": "ERROR",
     "evalue": "Error in parse(text = x, srcfile = src): <text>:1:22: unexpected symbol\n1: g <- \"aspas duplas \" dentro\n                         ^\n",
     "output_type": "error",
     "traceback": [
      "Error in parse(text = x, srcfile = src): <text>:1:22: unexpected symbol\n1: g <- \"aspas duplas \" dentro\n                         ^\nTraceback:\n"
     ]
    }
   ],
   "source": [
    "g <- \"aspas duplas \" dentro de aspas duplas\"\n",
    "print(g)"
   ]
  },
  {
   "cell_type": "markdown",
   "metadata": {},
   "source": [
    "### Função paste()\n",
    "\n",
    "paste(..., sep = \" \", collapse = NULL)\n",
    "\n",
    "\n",
    "- $\\textbf{...}$ representa qualquer número de argumentos a serem combinados.\n",
    "\n",
    "- $\\textbf{sep}$ representa qualquer separador entre os argumentos. É opcional.\n",
    "\n",
    "- $\\textbf{collapse}$ é usado para eliminar o espaço entre duas cordas. Mas não o espaço dentro de duas palavras de uma string."
   ]
  },
  {
   "cell_type": "code",
   "execution_count": 12,
   "metadata": {},
   "outputs": [
    {
     "name": "stdout",
     "output_type": "stream",
     "text": [
      "[1] \"Estamos na aula de LP!!! \"\n",
      "[1] \"Estamos_na_aula de LP!!! \"\n",
      "[1] \"Estamosnaaula de LP!!! \"\n"
     ]
    }
   ],
   "source": [
    "a <- \"Estamos\"\n",
    "b <- 'na'\n",
    "c <- \"aula de LP!!! \"\n",
    "\n",
    "print(paste(a,b,c))\n",
    "\n",
    "print(paste(a,b,c, sep = \"_\"))\n",
    "\n",
    "print(paste(a,b,c, sep = \"\", collapse = \"\"))"
   ]
  },
  {
   "cell_type": "code",
   "execution_count": 21,
   "metadata": {},
   "outputs": [
    {
     "data": {
      "text/html": [
       "'Vou tirar 10 no quiz dessa semana!'"
      ],
      "text/latex": [
       "'Vou tirar 10 no quiz dessa semana!'"
      ],
      "text/markdown": [
       "'Vou tirar 10 no quiz dessa semana!'"
      ],
      "text/plain": [
       "[1] \"Vou tirar 10 no quiz dessa semana!\""
      ]
     },
     "metadata": {},
     "output_type": "display_data"
    }
   ],
   "source": [
    "# Também podemos fazer dessa forma:\n",
    "sprintf(\"Vou tirar %d no %s dessa semana!\", 10, 'quiz') "
   ]
  },
  {
   "cell_type": "markdown",
   "metadata": {},
   "source": [
    "### Função format()\n",
    "\n",
    "format(x, digits, nsmall, scientific, width, justify = c(\"left\", \"right\", \"centre\", \"none\"))\n",
    "\n",
    "- $\\textbf{x}$ é a entrada do vetor.\n",
    "\n",
    "- $\\textbf{digits}$ é o número total de dígitos exibidos.\n",
    "\n",
    "- $\\textbf{nsmall}$ é o número mínimo de dígitos à direita do ponto decimal.\n",
    "\n",
    "- $\\textbf{scientific}$ é definido como TRUE para exibir notação científica.\n",
    "\n",
    "- $\\textbf{width}$ indica a largura mínima a ser exibida pelo preenchimento de espaços em branco no início.\n",
    "\n",
    "- $\\textbf{justify}$ é a exibição da string para a esquerda, direita ou central."
   ]
  },
  {
   "cell_type": "code",
   "execution_count": 14,
   "metadata": {},
   "outputs": [
    {
     "name": "stdout",
     "output_type": "stream",
     "text": [
      "[1] \"23.1234568\"\n",
      "[1] \"6.000000e+00\" \"1.314521e+01\"\n",
      "[1] \"23.47000\"\n",
      "[1] \"6\"\n",
      "[1] \"  13.7\"\n",
      "[1] \"Hello   \"\n",
      "[1] \" Hello  \"\n"
     ]
    }
   ],
   "source": [
    "# Devolvendo o número com a quantidade de algarismos desejada:\n",
    "result <- format(23.123456789, digits = 9)\n",
    "print(result)\n",
    "\n",
    "# Devolvendo o número em notação científica:\n",
    "result <- format(c(6, 13.14521), scientific = TRUE)\n",
    "print(result)\n",
    "\n",
    "# O menor número de dígitos à direita de um número decimal (completar o número com zeros):\n",
    "result <- format(23.47, nsmall = 5)\n",
    "print(result)\n",
    "\n",
    "# Format trata tudo como string:\n",
    "result <- format(6)\n",
    "print(result)\n",
    "\n",
    "# Os números são preenchidos com espaço em branco no início por width:\n",
    "result <- format(13.7, width = 6)\n",
    "print(result)\n",
    "\n",
    "# Justificativa à esquerda:\n",
    "result <- format(\"Hello\", width = 8, justify = \"l\")\n",
    "print(result)\n",
    "\n",
    "# Justificativa centralizada.\n",
    "result <- format(\"Hello\", width = 8, justify = \"c\")\n",
    "print(result)"
   ]
  },
  {
   "cell_type": "markdown",
   "metadata": {},
   "source": [
    "## Função nchar()\n",
    "\n",
    "nchar(x) conta o número de caracteres da string x"
   ]
  },
  {
   "cell_type": "code",
   "execution_count": 22,
   "metadata": {},
   "outputs": [
    {
     "data": {
      "text/html": [
       "44"
      ],
      "text/latex": [
       "44"
      ],
      "text/markdown": [
       "44"
      ],
      "text/plain": [
       "[1] 44"
      ]
     },
     "metadata": {},
     "output_type": "display_data"
    }
   ],
   "source": [
    "x = \" Vamos contar quantos caracteres temos aqui.\"\n",
    "nchar(x)"
   ]
  },
  {
   "cell_type": "markdown",
   "metadata": {},
   "source": [
    "### Modificando a formatação com toupper() e tolower()"
   ]
  },
  {
   "cell_type": "code",
   "execution_count": 29,
   "metadata": {},
   "outputs": [
    {
     "name": "stdout",
     "output_type": "stream",
     "text": [
      "[1] \"PASSANDO PARA MAIÚSCULO\"\n"
     ]
    }
   ],
   "source": [
    "ma = \"passando para maiúsculo\"\n",
    "maiusculo = toupper(ma)\n",
    "print(maiusculo)"
   ]
  },
  {
   "cell_type": "code",
   "execution_count": 28,
   "metadata": {},
   "outputs": [
    {
     "name": "stdout",
     "output_type": "stream",
     "text": [
      "[1] \"passando para minúsculo\"\n"
     ]
    }
   ],
   "source": [
    "mi = \"PASSANDO PARA MINÚSCULO\"\n",
    "minusculo = tolower(mi)\n",
    "print(minusculo)"
   ]
  },
  {
   "cell_type": "markdown",
   "metadata": {},
   "source": [
    "### Função substring()\n",
    "\n",
    "substring(x, first, last)\n",
    "\n",
    "Dará como resposta os caracteres referentes ao intervalo [first, last]"
   ]
  },
  {
   "cell_type": "code",
   "execution_count": 34,
   "metadata": {},
   "outputs": [
    {
     "name": "stdout",
     "output_type": "stream",
     "text": [
      "[1] \"tudo\"\n"
     ]
    }
   ],
   "source": [
    "a <- \"Estou aprendendo tudo!\"\n",
    "t <- substring(a, 18, 21)\n",
    "print(t)"
   ]
  },
  {
   "cell_type": "code",
   "execution_count": null,
   "metadata": {},
   "outputs": [],
   "source": []
  }
 ],
 "metadata": {
  "kernelspec": {
   "display_name": "R",
   "language": "R",
   "name": "ir"
  },
  "language_info": {
   "codemirror_mode": "r",
   "file_extension": ".r",
   "mimetype": "text/x-r-source",
   "name": "R",
   "pygments_lexer": "r",
   "version": "3.2.3"
  }
 },
 "nbformat": 4,
 "nbformat_minor": 2
}

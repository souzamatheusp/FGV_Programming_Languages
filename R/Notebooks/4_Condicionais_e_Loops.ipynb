{
 "cells": [
  {
   "cell_type": "markdown",
   "metadata": {
    "collapsed": false
   },
   "source": [
    "## Condicionais"
   ]
  },
  {
   "cell_type": "markdown",
   "metadata": {
    "collapsed": false
   },
   "source": [
    "### If:"
   ]
  },
  {
   "cell_type": "markdown",
   "metadata": {
    "collapsed": false
   },
   "source": [
    "- $\\textbf{If}$:\n",
    "\n",
    "consiste em uma expressão booleana seguida por uma ou mais declarações.\n",
    "\n",
    "\n",
    "if(boolean_expression) {\n",
    "\n",
    "// statement(s) will execute if the boolean expression is true.\n",
    "\n",
    "} \n"
   ]
  },
  {
   "cell_type": "code",
   "execution_count": 0,
   "metadata": {
    "collapsed": false
   },
   "outputs": [
   ],
   "source": [
   ]
  },
  {
   "cell_type": "code",
   "execution_count": 1,
   "metadata": {
    "collapsed": false
   },
   "outputs": [
    {
     "name": "stdout",
     "output_type": "stream",
     "text": [
      "[1] \"X is an Integer\"\n"
     ]
    }
   ],
   "source": [
    "x <- 30L\n",
    "if(is.integer(x)) {\n",
    "   print(\"X is an Integer\")\n",
    "}"
   ]
  },
  {
   "cell_type": "markdown",
   "metadata": {
    "collapsed": false
   },
   "source": [
    "- $\\textbf{If ... Else}$:\n",
    "\n",
    "consiste em uma expressão $\\textit{if}$ seguida pelo $\\textit{else}$, que é executado quando a expressão Booleana é FALSA.\n",
    "\n",
    "if(boolean_expression) {\n",
    "\n",
    "// statement(s) will execute if the boolean expression is true.\n",
    "   \n",
    "} else {\n",
    "\n",
    "   // statement(s) will execute if the boolean expression is false.\n",
    "   \n",
    "}"
   ]
  },
  {
   "cell_type": "code",
   "execution_count": 2,
   "metadata": {
    "collapsed": false
   },
   "outputs": [
    {
     "name": "stdout",
     "output_type": "stream",
     "text": [
      "[1] \"Truth is not found\"\n"
     ]
    }
   ],
   "source": [
    "x <- c(\"what\",\"is\",\"truth\")\n",
    "\n",
    "if(\"Truth\" %in% x) {\n",
    "   print(\"Truth is found\")\n",
    "} else {\n",
    "   print(\"Truth is not found\")\n",
    "}"
   ]
  },
  {
   "cell_type": "markdown",
   "metadata": {
    "collapsed": false
   },
   "source": [
    "para mais de uma condição seguimos o padrão:\n",
    "\n",
    "if(boolean_expression 1) {\n",
    "\n",
    "   // Executes when the boolean expression 1 is true. \n",
    "   \n",
    "} else if( boolean_expression 2) {\n",
    "\n",
    "   // Executes when the boolean expression 2 is true.\n",
    "   \n",
    "} else if( boolean_expression 3) {\n",
    "\n",
    "   // Executes when the boolean expression 3 is true.\n",
    "   \n",
    "} else {\n",
    "\n",
    "   // executes when none of the above condition is true.\n",
    "   \n",
    "}\n"
   ]
  },
  {
   "cell_type": "code",
   "execution_count": 7,
   "metadata": {
    "collapsed": false
   },
   "outputs": [
    {
     "name": "stdout",
     "output_type": "stream",
     "text": [
      "[1] \"truth is found the second time\"\n"
     ]
    }
   ],
   "source": [
    "x <- c(\"what\",\"is\",\"truth\")\n",
    "\n",
    "if(\"Truth\" %in% x) {\n",
    "   print(\"Truth is found the first time\")\n",
    "} else if (\"truth\" %in% x) {\n",
    "   print(\"truth is found the second time\")\n",
    "} else {\n",
    "   print(\"No truth found\")\n",
    "}"
   ]
  },
  {
   "cell_type": "markdown",
   "metadata": {
    "collapsed": false
   },
   "source": [
    "- $\\textbf{Switch}$:\n",
    "\n",
    "Essa declaração permite que uma variável seja testada quanto à igualdade em relação a uma lista de valores.\n",
    "\n",
    "switch(expression, case1, case2, case3....)\n",
    "\n",
    "\n",
    "As seguintes regras devem ser aplicadas:\n",
    "\n",
    "- Se o valor da expressão não é uma sequência de caracteres, é coagido ao inteiro;\n",
    "\n",
    "- Podemos ter o número de casos que quisermos dentro da estrutura Switch. Cada caso é seguido pelo valor a ser comparado e dois pontos;\n",
    "\n",
    "- Se o valor da string está entre 1 e nargs()-1, então o elemento correspondente é avaliado e retornado como resultado;\n",
    "\n",
    "- Se houver mais de uma correspondência, então a primeira é retornada;\n",
    "\n",
    "- Nenhum argumento padrão está disponível;\n",
    "\n",
    "- No caso de não haver correspondência, se existe um elemento não nomeado de ..., seu valor é retornado. No caso de mais de um argumento dessa forma, um erro é retornado.\n"
   ]
  },
  {
   "cell_type": "code",
   "execution_count": 8,
   "metadata": {
    "collapsed": false
   },
   "outputs": [
    {
     "name": "stdout",
     "output_type": "stream",
     "text": [
      "[1] \"third\"\n"
     ]
    }
   ],
   "source": [
    "x <- switch(\n",
    "   3,\n",
    "   \"first\",\n",
    "   \"second\",\n",
    "   \"third\",\n",
    "   \"fourth\"\n",
    ")\n",
    "print(x)"
   ]
  },
  {
   "cell_type": "code",
   "execution_count": 9,
   "metadata": {
    "collapsed": false
   },
   "outputs": [
    {
     "data": {
      "text/html": [
       "'blue'"
      ]
     },
     "execution_count": 9,
     "metadata": {
     },
     "output_type": "execute_result"
    }
   ],
   "source": [
    "switch(3,\"red\",\"green\",\"blue\")"
   ]
  },
  {
   "cell_type": "code",
   "execution_count": 10,
   "metadata": {
    "collapsed": false
   },
   "outputs": [
    {
     "data": {
      "text/html": [
       "'green'"
      ]
     },
     "execution_count": 10,
     "metadata": {
     },
     "output_type": "execute_result"
    }
   ],
   "source": [
    "switch(2,\"red\",\"green\",\"blue\")"
   ]
  },
  {
   "cell_type": "code",
   "execution_count": 11,
   "metadata": {
    "collapsed": false
   },
   "outputs": [
    {
     "data": {
      "text/html": [
       "'red'"
      ]
     },
     "execution_count": 11,
     "metadata": {
     },
     "output_type": "execute_result"
    }
   ],
   "source": [
    "switch(1,\"red\",\"green\",\"blue\")"
   ]
  },
  {
   "cell_type": "code",
   "execution_count": 12,
   "metadata": {
    "collapsed": false
   },
   "outputs": [
    {
     "name": "stdout",
     "output_type": "stream",
     "text": [
      "NULL\n"
     ]
    }
   ],
   "source": [
    "x <- switch(4,\"red\",\"green\",\"blue\")\n",
    "print(x)"
   ]
  },
  {
   "cell_type": "markdown",
   "metadata": {
    "collapsed": false
   },
   "source": [
    "### LOOPS"
   ]
  },
  {
   "cell_type": "markdown",
   "metadata": {
    "collapsed": false
   },
   "source": [
    "- $\\textbf{Repeat loop}$: \n",
    "\n",
    "Executa o código até que se chegue na condição de parada.\n",
    "\n",
    " repeat { \n",
    "\n",
    "       commands\n",
    "   \n",
    "       if(condition) {\n",
    "   \n",
    "           break\n",
    "      \n",
    "        }\n",
    "   \n",
    " }"
   ]
  },
  {
   "cell_type": "code",
   "execution_count": 15,
   "metadata": {
    "collapsed": false
   },
   "outputs": [
    {
     "name": "stdout",
     "output_type": "stream",
     "text": [
      "[1] 1\n",
      "[1] 2\n",
      "[1] 3\n",
      "[1] 4\n",
      "[1] 5\n",
      "[1] 6\n",
      "[1] 7\n",
      "[1] 8\n",
      "[1] 9\n"
     ]
    }
   ],
   "source": [
    "x <- 1\n",
    "\n",
    "repeat {\n",
    "   print(x)\n",
    "   x = x+1\n",
    "   if (x == 10){\n",
    "       break\n",
    "   }\n",
    "}"
   ]
  },
  {
   "cell_type": "code",
   "execution_count": 13,
   "metadata": {
    "collapsed": false
   },
   "outputs": [
    {
     "name": "stdout",
     "output_type": "stream",
     "text": [
      "[1] \"Hello\" \"loop\" \n",
      "[1] \"Hello\" \"loop\" \n",
      "[1] \"Hello\" \"loop\" \n",
      "[1] \"Hello\" \"loop\" \n"
     ]
    }
   ],
   "source": [
    "v <- c(\"Hello\",\"loop\")\n",
    "cnt <- 2\n",
    "\n",
    "repeat {\n",
    "   print(v)\n",
    "   cnt <- cnt+1\n",
    "   \n",
    "   if(cnt > 5) {\n",
    "      break\n",
    "   }\n",
    "}"
   ]
  },
  {
   "cell_type": "markdown",
   "metadata": {
    "collapsed": false
   },
   "source": [
    "- $\\textbf{While loop}$:\n",
    "\n",
    "Repetirá a(s) declarações(s) enquanto a condição dada for verdadeira. A condição é testada antes da execução do corpo do loop.\n",
    "\n",
    "while (test_expression) {\n",
    "\n",
    "   statement\n",
    "   \n",
    "}"
   ]
  },
  {
   "cell_type": "code",
   "execution_count": 17,
   "metadata": {
    "collapsed": false
   },
   "outputs": [
    {
     "name": "stdout",
     "output_type": "stream",
     "text": [
      "[1] \"Hello\"      \"while loop\"\n",
      "[1] \"Hello\"      \"while loop\"\n",
      "[1] \"Hello\"      \"while loop\"\n",
      "[1] \"Hello\"      \"while loop\"\n",
      "[1] \"Hello\"      \"while loop\"\n",
      "[1] \"Hello\"      \"while loop\"\n",
      "[1] \"Hello\"      \"while loop\"\n"
     ]
    }
   ],
   "source": [
    "v <- c(\"Hello\",\"while loop\")\n",
    "cnt <- 0\n",
    "\n",
    "while (cnt < 7) {\n",
    "   print(v)\n",
    "   cnt = cnt + 1\n",
    "}"
   ]
  },
  {
   "cell_type": "markdown",
   "metadata": {
    "collapsed": false
   },
   "source": [
    "- $\\textbf{For loop}$:\n",
    "\n",
    "É como o WHILE, exceto pelo fato de testar a condição no final do corpo do loop.\n",
    "\n",
    "for (value in vector) {\n",
    "\n",
    "   statements\n",
    "   \n",
    "}"
   ]
  },
  {
   "cell_type": "code",
   "execution_count": 19,
   "metadata": {
    "collapsed": false
   },
   "outputs": [
    {
     "name": "stdout",
     "output_type": "stream",
     "text": [
      "[1] \"A\"\n",
      "[1] \"B\"\n",
      "[1] \"C\"\n",
      "[1] \"D\"\n",
      "[1] \"E\"\n",
      "[1] \"F\"\n",
      "[1] \"G\"\n",
      "[1] \"H\"\n",
      "[1] \"I\"\n",
      "[1] \"J\"\n"
     ]
    }
   ],
   "source": [
    "v <- LETTERS[1:10]\n",
    "for ( i in v) {\n",
    "   print(i)\n",
    "}"
   ]
  },
  {
   "cell_type": "markdown",
   "metadata": {
    "collapsed": false
   },
   "source": [
    "- $\\textbf{Break statement}$:\n",
    "\n",
    "Termina o loop e transfere a execução para a declaração que segue imediatamente o loop."
   ]
  },
  {
   "cell_type": "code",
   "execution_count": 20,
   "metadata": {
    "collapsed": false
   },
   "outputs": [
    {
     "name": "stdout",
     "output_type": "stream",
     "text": [
      "[1] \"Hello\" \"loop\" \n",
      "[1] \"Hello\" \"loop\" \n",
      "[1] \"Hello\" \"loop\" \n",
      "[1] \"Hello\" \"loop\" \n"
     ]
    }
   ],
   "source": [
    "v <- c(\"Hello\",\"loop\")\n",
    "cnt <- 2\n",
    "\n",
    "repeat {\n",
    "   print(v)\n",
    "   cnt <- cnt + 1\n",
    "\t\n",
    "   if(cnt > 5) {\n",
    "      break\n",
    "   }\n",
    "}"
   ]
  },
  {
   "cell_type": "markdown",
   "metadata": {
    "collapsed": false
   },
   "source": [
    "- $\\textbf{Next statement}$:\n",
    "\n",
    "O NEXT simula o comportamento do SWITCH. É útil quando queremos pular a iteração atual."
   ]
  },
  {
   "cell_type": "code",
   "execution_count": 21,
   "metadata": {
    "collapsed": false
   },
   "outputs": [
    {
     "name": "stdout",
     "output_type": "stream",
     "text": [
      "[1] \"A\"\n",
      "[1] \"B\"\n",
      "[1] \"C\"\n",
      "[1] \"E\"\n",
      "[1] \"F\"\n"
     ]
    }
   ],
   "source": [
    "v <- LETTERS[1:6]\n",
    "for ( i in v) {\n",
    "   \n",
    "   if (i == \"D\") {\n",
    "      next\n",
    "   }\n",
    "   print(i)\n",
    "}"
   ]
  },
  {
   "cell_type": "code",
   "execution_count": 0,
   "metadata": {
    "collapsed": false
   },
   "outputs": [
   ],
   "source": [
   ]
  }
 ],
 "metadata": {
  "kernelspec": {
   "display_name": "R (R-Project)",
   "language": "r",
   "name": "ir"
  }
 },
 "nbformat": 4,
 "nbformat_minor": 0
}
{
 "cells": [
  {
   "cell_type": "markdown",
   "metadata": {},
   "source": [
    "Nesse notebook veremos melhor cada um dos Data Types:"
   ]
  },
  {
   "cell_type": "markdown",
   "metadata": {},
   "source": [
    "# Vetores:"
   ]
  },
  {
   "cell_type": "markdown",
   "metadata": {},
   "source": [
    "- Quando escrevemos um único valor em R, esse valor é um vetor unitário.\n",
    "- Podemos criar vetores de sequências:"
   ]
  },
  {
   "cell_type": "code",
   "execution_count": 4,
   "metadata": {},
   "outputs": [
    {
     "name": "stdout",
     "output_type": "stream",
     "text": [
      " [1]  1  2  3  4  5  6  7  8  9 10\n"
     ]
    }
   ],
   "source": [
    "s <- 1:10\n",
    "print(s)"
   ]
  },
  {
   "cell_type": "code",
   "execution_count": 5,
   "metadata": {},
   "outputs": [
    {
     "name": "stdout",
     "output_type": "stream",
     "text": [
      "[1]  2.5  3.5  4.5  5.5  6.5  7.5  8.5  9.5 10.5\n"
     ]
    }
   ],
   "source": [
    "s2 <- 2.5:10.5\n",
    "print(s2)"
   ]
  },
  {
   "cell_type": "code",
   "execution_count": 7,
   "metadata": {},
   "outputs": [
    {
     "name": "stdout",
     "output_type": "stream",
     "text": [
      "[1] 5.3 6.3 7.3 8.3\n"
     ]
    }
   ],
   "source": [
    "s3 <- 5.3: 8.8\n",
    "print(s3)"
   ]
  },
  {
   "cell_type": "markdown",
   "metadata": {},
   "source": [
    "- Podemos usar a função $\\textbf{seq()}$ para criar vetores e a função $\\textbf{c()}$, que vimos anteriormente."
   ]
  },
  {
   "cell_type": "code",
   "execution_count": 9,
   "metadata": {},
   "outputs": [
    {
     "name": "stdout",
     "output_type": "stream",
     "text": [
      " [1] 5.0 5.4 5.8 6.2 6.6 7.0 7.4 7.8 8.2 8.6 9.0\n"
     ]
    }
   ],
   "source": [
    "s4 <- seq(5, 9, by = 0.4)\n",
    "print(s4)"
   ]
  },
  {
   "cell_type": "markdown",
   "metadata": {},
   "source": [
    "- Podemos devolver os elementos na posição desejada."
   ]
  },
  {
   "cell_type": "code",
   "execution_count": 10,
   "metadata": {},
   "outputs": [
    {
     "name": "stdout",
     "output_type": "stream",
     "text": [
      "[1] \"Mon\" \"Tue\" \"Fri\"\n"
     ]
    }
   ],
   "source": [
    "t <- c(\"Sun\",\"Mon\",\"Tue\",\"Wed\",\"Thurs\",\"Fri\",\"Sat\") #Dizendo explicitamente a posição pelo número dela\n",
    "u <- t[c(2,3,6)]\n",
    "print(u)"
   ]
  },
  {
   "cell_type": "code",
   "execution_count": 11,
   "metadata": {},
   "outputs": [
    {
     "name": "stdout",
     "output_type": "stream",
     "text": [
      "[1] \"Sun\" \"Fri\"\n"
     ]
    }
   ],
   "source": [
    "v <- t[c(TRUE,FALSE,FALSE,FALSE,FALSE,TRUE,FALSE)] #Usando o booleano para marcar as que queremos\n",
    "print(v)\n"
   ]
  },
  {
   "cell_type": "markdown",
   "metadata": {},
   "source": [
    "- Podemos devolver o vetor retirando alguns elementos dele."
   ]
  },
  {
   "cell_type": "code",
   "execution_count": 15,
   "metadata": {},
   "outputs": [
    {
     "name": "stdout",
     "output_type": "stream",
     "text": [
      "[1] \"Janeiro\"  \"Março\"    \"Abril\"    \"Junho\"    \"Julho\"    \"Setembro\" \"Novembro\"\n"
     ]
    }
   ],
   "source": [
    "t <- c(\"Janeiro\",\"Fevereiro\",\"Março\",\"Abril\",\"Maio\",\"Junho\",\"Julho\",\"Agosto\",\"Setembro\",\"Outubro\",\"Novembro\", \"Dezembro\")\n",
    "x <- t[c(-2,-5,-8,-10,-12)]\n",
    "print(x)"
   ]
  },
  {
   "cell_type": "markdown",
   "metadata": {},
   "source": [
    "- Podemos ordenar com a função $\\textbf{sort()}$."
   ]
  },
  {
   "cell_type": "code",
   "execution_count": 23,
   "metadata": {},
   "outputs": [
    {
     "name": "stdout",
     "output_type": "stream",
     "text": [
      "[1]  -9   0   3   4   5   8  11 304\n",
      "[1] 304  11   8   5   4   3   0  -9\n",
      "[1] \"Amarelo\"  \"Azul\"     \"Bege\"     \"Branco\"   \"Rosa\"     \"Roxo\"     \"Verde\"   \n",
      "[8] \"Vermelho\"\n",
      "[1] \"Vermelho\" \"Verde\"    \"Roxo\"     \"Rosa\"     \"Branco\"   \"Bege\"     \"Azul\"    \n",
      "[8] \"Amarelo\" \n"
     ]
    }
   ],
   "source": [
    "v <- c(3,8,4,5,0,11, -9, 304)\n",
    "\n",
    "# Ordenando.\n",
    "sort.result <- sort(v)\n",
    "print(sort.result)\n",
    "\n",
    "# Ordenando na ordem decrescente.\n",
    "revsort.result <- sort(v, decreasing = TRUE)\n",
    "print(revsort.result)\n",
    "\n",
    "# Ordenando strings pela ordem alfabética.\n",
    "v <- c(\"Amarelo\",\"Azul\",\"Branco\",\"Rosa\",\"Roxo\",\"Vermelho\",\"Verde\",\"Bege\")\n",
    "sort.result <- sort(v)\n",
    "print(sort.result)\n",
    "\n",
    "# Ordenando strings pela ordem inversa da alfabética.\n",
    "revsort.result <- sort(v, decreasing = TRUE)\n",
    "print(revsort.result)"
   ]
  },
  {
   "cell_type": "markdown",
   "metadata": {},
   "source": [
    "# Listas:"
   ]
  },
  {
   "cell_type": "markdown",
   "metadata": {},
   "source": [
    "- Nomeando os elementos da lista"
   ]
  },
  {
   "cell_type": "code",
   "execution_count": 26,
   "metadata": {},
   "outputs": [
    {
     "name": "stdout",
     "output_type": "stream",
     "text": [
      "$`1º_trimeste`\n",
      "[1] \"Jan\" \"Feb\" \"Mar\"\n",
      "\n",
      "$Matrix\n",
      "     [,1] [,2] [,3]\n",
      "[1,]    3    5   -2\n",
      "[2,]    9    1    8\n",
      "\n",
      "$outra_lista\n",
      "$outra_lista[[1]]\n",
      "[1] \"green\"\n",
      "\n",
      "$outra_lista[[2]]\n",
      "[1] 12.3\n",
      "\n",
      "\n"
     ]
    }
   ],
   "source": [
    "# Criando uma lista que contém um vetor, uma matriz e uma lista:\n",
    "list_data <- list(c(\"Jan\",\"Feb\",\"Mar\"), matrix(c(3,9,5,1,-2,8), nrow = 2),\n",
    "   list(\"green\",12.3))\n",
    "\n",
    "# Nomeando os elementos:\n",
    "names(list_data) <- c(\"1º_trimeste\", \"Matrix\", \"outra_lista\")\n",
    "\n",
    "print(list_data)"
   ]
  },
  {
   "cell_type": "markdown",
   "metadata": {},
   "source": [
    "- Acessando os elementos de uma lista:"
   ]
  },
  {
   "cell_type": "code",
   "execution_count": 28,
   "metadata": {},
   "outputs": [
    {
     "name": "stdout",
     "output_type": "stream",
     "text": [
      "$`1º_trimeste`\n",
      "[1] \"Jan\" \"Feb\" \"Mar\"\n",
      "\n"
     ]
    }
   ],
   "source": [
    "print(list_data[1])\n"
   ]
  },
  {
   "cell_type": "code",
   "execution_count": 29,
   "metadata": {},
   "outputs": [
    {
     "name": "stdout",
     "output_type": "stream",
     "text": [
      "$Matrix\n",
      "     [,1] [,2] [,3]\n",
      "[1,]    3    5   -2\n",
      "[2,]    9    1    8\n",
      "\n"
     ]
    }
   ],
   "source": [
    "print(list_data[2])"
   ]
  },
  {
   "cell_type": "code",
   "execution_count": 30,
   "metadata": {},
   "outputs": [
    {
     "name": "stdout",
     "output_type": "stream",
     "text": [
      "$outra_lista\n",
      "$outra_lista[[1]]\n",
      "[1] \"green\"\n",
      "\n",
      "$outra_lista[[2]]\n",
      "[1] 12.3\n",
      "\n",
      "\n"
     ]
    }
   ],
   "source": [
    "print(list_data[3])\n"
   ]
  },
  {
   "cell_type": "markdown",
   "metadata": {},
   "source": [
    "- Criando novos elementos:"
   ]
  },
  {
   "cell_type": "code",
   "execution_count": 36,
   "metadata": {},
   "outputs": [
    {
     "name": "stdout",
     "output_type": "stream",
     "text": [
      "$`1º_trimeste`\n",
      "[1] \"Jan\" \"Feb\" \"Mar\"\n",
      "\n",
      "$Matrix\n",
      "     [,1] [,2] [,3]\n",
      "[1,]    3    5   -2\n",
      "[2,]    9    1    8\n",
      "\n",
      "$outra_lista\n",
      "$outra_lista[[1]]\n",
      "[1] \"green\"\n",
      "\n",
      "$outra_lista[[2]]\n",
      "[1] 12.3\n",
      "\n",
      "\n",
      "[[4]]\n",
      "[1] \"Novo elemento\"\n",
      "\n"
     ]
    }
   ],
   "source": [
    "list_data[4] <- \"Novo elemento\"\n",
    "print(list_data)"
   ]
  },
  {
   "cell_type": "markdown",
   "metadata": {},
   "source": [
    "- Removendo elementos:"
   ]
  },
  {
   "cell_type": "code",
   "execution_count": 37,
   "metadata": {},
   "outputs": [
    {
     "name": "stdout",
     "output_type": "stream",
     "text": [
      "$`1º_trimeste`\n",
      "[1] \"Jan\" \"Feb\" \"Mar\"\n",
      "\n",
      "$outra_lista\n",
      "$outra_lista[[1]]\n",
      "[1] \"green\"\n",
      "\n",
      "$outra_lista[[2]]\n",
      "[1] 12.3\n",
      "\n",
      "\n",
      "[[3]]\n",
      "[1] \"Novo elemento\"\n",
      "\n"
     ]
    }
   ],
   "source": [
    "list_data[2] <- NULL\n",
    "print(list_data)"
   ]
  },
  {
   "cell_type": "markdown",
   "metadata": {},
   "source": [
    "- Alterando elementos:"
   ]
  },
  {
   "cell_type": "code",
   "execution_count": 46,
   "metadata": {},
   "outputs": [
    {
     "name": "stdout",
     "output_type": "stream",
     "text": [
      "$`1º_trimeste`\n",
      "[1] \"Jan\" \"Feb\" \"Mar\"\n",
      "\n",
      "$outra_lista\n",
      "[1] \"Aqui era o lugar da lista\"\n",
      "\n",
      "[[3]]\n",
      "[1] \"Novo elemento\"\n",
      "\n"
     ]
    }
   ],
   "source": [
    "list_data[2] <- \"Aqui era o lugar da lista\"\n",
    "print(list_data)"
   ]
  },
  {
   "cell_type": "markdown",
   "metadata": {},
   "source": [
    "- Juntando listas:"
   ]
  },
  {
   "cell_type": "code",
   "execution_count": 47,
   "metadata": {},
   "outputs": [
    {
     "name": "stdout",
     "output_type": "stream",
     "text": [
      "[[1]]\n",
      "[1] 1\n",
      "\n",
      "[[2]]\n",
      "[1] 2\n",
      "\n",
      "[[3]]\n",
      "[1] 3\n",
      "\n",
      "[[4]]\n",
      "[1] 4\n",
      "\n",
      "[[5]]\n",
      "[1] 5\n",
      "\n",
      "[[6]]\n",
      "[1] 6\n",
      "\n"
     ]
    }
   ],
   "source": [
    "lista1 <- list(1,2,3)\n",
    "lista2 <- list(4,5,6)\n",
    "lista3 <-c(lista1,lista2)\n",
    "print(lista3)"
   ]
  },
  {
   "cell_type": "markdown",
   "metadata": {},
   "source": [
    " - Podemos transformar uma lista em um vetor usando a função $\\textbf{unlist()}$:"
   ]
  },
  {
   "cell_type": "code",
   "execution_count": 52,
   "metadata": {},
   "outputs": [
    {
     "name": "stdout",
     "output_type": "stream",
     "text": [
      "[1] 1 2 3\n"
     ]
    }
   ],
   "source": [
    "v1 <- unlist(lista1)\n",
    "print(v1)"
   ]
  },
  {
   "cell_type": "code",
   "execution_count": 51,
   "metadata": {},
   "outputs": [
    {
     "name": "stdout",
     "output_type": "stream",
     "text": [
      "[[1]]\n",
      "[1] 1\n",
      "\n",
      "[[2]]\n",
      "[1] 2\n",
      "\n",
      "[[3]]\n",
      "[1] 3\n",
      "\n"
     ]
    }
   ],
   "source": [
    "print(lista1)"
   ]
  },
  {
   "cell_type": "code",
   "execution_count": 49,
   "metadata": {},
   "outputs": [
    {
     "name": "stdout",
     "output_type": "stream",
     "text": [
      "[1] 4 5 6\n"
     ]
    }
   ],
   "source": [
    "v2 <- unlist(lista2)\n",
    "print(v2)"
   ]
  },
  {
   "cell_type": "code",
   "execution_count": 53,
   "metadata": {},
   "outputs": [
    {
     "name": "stdout",
     "output_type": "stream",
     "text": [
      "[[1]]\n",
      "[1] 4\n",
      "\n",
      "[[2]]\n",
      "[1] 5\n",
      "\n",
      "[[3]]\n",
      "[1] 6\n",
      "\n"
     ]
    }
   ],
   "source": [
    "print(lista2)"
   ]
  },
  {
   "cell_type": "markdown",
   "metadata": {},
   "source": [
    "# Matriz:"
   ]
  },
  {
   "cell_type": "markdown",
   "metadata": {},
   "source": [
    "- Podemos defini-la por linhas"
   ]
  },
  {
   "cell_type": "code",
   "execution_count": 55,
   "metadata": {},
   "outputs": [
    {
     "name": "stdout",
     "output_type": "stream",
     "text": [
      "     [,1] [,2] [,3]\n",
      "[1,]    3    4    5\n",
      "[2,]    6    7    8\n",
      "[3,]    9   10   11\n",
      "[4,]   12   13   14\n"
     ]
    }
   ],
   "source": [
    "M_l <- matrix(c(3:14), nrow = 4, byrow = TRUE)\n",
    "print(M_l)"
   ]
  },
  {
   "cell_type": "markdown",
   "metadata": {},
   "source": [
    "- Podemos defini-las por coluna"
   ]
  },
  {
   "cell_type": "code",
   "execution_count": 56,
   "metadata": {},
   "outputs": [
    {
     "name": "stdout",
     "output_type": "stream",
     "text": [
      "     [,1] [,2] [,3]\n",
      "[1,]    3    7   11\n",
      "[2,]    4    8   12\n",
      "[3,]    5    9   13\n",
      "[4,]    6   10   14\n"
     ]
    }
   ],
   "source": [
    "M_c <- matrix(c(3:14), nrow = 4, byrow = FALSE)\n",
    "print(M_c)"
   ]
  },
  {
   "cell_type": "markdown",
   "metadata": {},
   "source": [
    "- Podemos nomear suas colunas e suas linhas"
   ]
  },
  {
   "cell_type": "code",
   "execution_count": 59,
   "metadata": {},
   "outputs": [
    {
     "name": "stdout",
     "output_type": "stream",
     "text": [
      "       col1 col2 col3\n",
      "linha1    3    4    5\n",
      "linha2    6    7    8\n",
      "linha3    9   10   11\n",
      "linha4   12   13   14\n"
     ]
    }
   ],
   "source": [
    "nome_linhas = c(\"linha1\", \"linha2\", \"linha3\", \"linha4\")\n",
    "nome_colunas = c(\"col1\", \"col2\", \"col3\")\n",
    "M_nomeada <- matrix(c(3:14), nrow = 4, byrow = TRUE, dimnames = list(nome_linhas, nome_colunas))\n",
    "print(M_nomeada)"
   ]
  },
  {
   "cell_type": "markdown",
   "metadata": {},
   "source": [
    "- Acessando coluna"
   ]
  },
  {
   "cell_type": "code",
   "execution_count": 61,
   "metadata": {},
   "outputs": [
    {
     "name": "stdout",
     "output_type": "stream",
     "text": [
      "linha1 linha2 linha3 linha4 \n",
      "     5      8     11     14 \n"
     ]
    }
   ],
   "source": [
    "print(M_nomeada[,3]) #Coluna 3"
   ]
  },
  {
   "cell_type": "markdown",
   "metadata": {},
   "source": [
    "- Acessando linha"
   ]
  },
  {
   "cell_type": "code",
   "execution_count": 60,
   "metadata": {},
   "outputs": [
    {
     "name": "stdout",
     "output_type": "stream",
     "text": [
      "col1 col2 col3 \n",
      "   6    7    8 \n"
     ]
    }
   ],
   "source": [
    "print(M_nomeada[2,]) #Linha 2"
   ]
  },
  {
   "cell_type": "markdown",
   "metadata": {},
   "source": [
    "- Acessando elemento"
   ]
  },
  {
   "cell_type": "code",
   "execution_count": 62,
   "metadata": {},
   "outputs": [
    {
     "name": "stdout",
     "output_type": "stream",
     "text": [
      "[1] 8\n"
     ]
    }
   ],
   "source": [
    "print(M_nomeada[2,3]) # Elemento da coluna 3 e linha 2"
   ]
  },
  {
   "cell_type": "markdown",
   "metadata": {},
   "source": [
    "- Adição de matrizes"
   ]
  },
  {
   "cell_type": "code",
   "execution_count": 2,
   "metadata": {},
   "outputs": [
    {
     "name": "stdout",
     "output_type": "stream",
     "text": [
      "     [,1] [,2] [,3]\n",
      "[1,]    3   -1    2\n",
      "[2,]    9    4    6\n",
      "     [,1] [,2] [,3]\n",
      "[1,]    5    0    3\n",
      "[2,]    2    9    4\n"
     ]
    }
   ],
   "source": [
    "matrix1 <- matrix(c(3, 9, -1, 4, 2, 6), nrow = 2)\n",
    "matrix2 <- matrix(c(5, 2, 0, 9, 3, 4), nrow = 2)\n",
    "print(matrix1)\n",
    "print(matrix2)"
   ]
  },
  {
   "cell_type": "code",
   "execution_count": 4,
   "metadata": {},
   "outputs": [
    {
     "name": "stdout",
     "output_type": "stream",
     "text": [
      "     [,1] [,2] [,3]\n",
      "[1,]    8   -1    5\n",
      "[2,]   11   13   10\n"
     ]
    }
   ],
   "source": [
    "soma_matriz <- matrix1+matrix2\n",
    "print(soma_matriz)"
   ]
  },
  {
   "cell_type": "markdown",
   "metadata": {},
   "source": [
    "- Subtração de matrizes"
   ]
  },
  {
   "cell_type": "code",
   "execution_count": 5,
   "metadata": {},
   "outputs": [
    {
     "name": "stdout",
     "output_type": "stream",
     "text": [
      "     [,1] [,2] [,3]\n",
      "[1,]   -2   -1   -1\n",
      "[2,]    7   -5    2\n"
     ]
    }
   ],
   "source": [
    "subtração_matriz <- matrix1 - matrix2\n",
    "print(subtração_matriz)"
   ]
  },
  {
   "cell_type": "markdown",
   "metadata": {},
   "source": [
    "- Multiplicação dos elementos d de duas matrizes:"
   ]
  },
  {
   "cell_type": "code",
   "execution_count": 8,
   "metadata": {},
   "outputs": [
    {
     "name": "stdout",
     "output_type": "stream",
     "text": [
      "     [,1] [,2] [,3]\n",
      "[1,]   15    0    6\n",
      "[2,]   18   36   24\n"
     ]
    }
   ],
   "source": [
    "multiplicação <- matrix1 * matrix2\n",
    "print(multiplicação)"
   ]
  },
  {
   "cell_type": "markdown",
   "metadata": {},
   "source": [
    "- Divisão dos elementos da matriz pelo elemeto correspondente de outra matriz"
   ]
  },
  {
   "cell_type": "code",
   "execution_count": 7,
   "metadata": {},
   "outputs": [
    {
     "name": "stdout",
     "output_type": "stream",
     "text": [
      "     [,1]      [,2]      [,3]\n",
      "[1,]  0.6      -Inf 0.6666667\n",
      "[2,]  4.5 0.4444444 1.5000000\n"
     ]
    }
   ],
   "source": [
    "divisão <- matrix1 / matrix2\n",
    "print(divisão)"
   ]
  },
  {
   "cell_type": "markdown",
   "metadata": {},
   "source": [
    "# Arrays:"
   ]
  },
  {
   "cell_type": "markdown",
   "metadata": {},
   "source": [
    "Arrays são criados usando a função $\\textbf{array()}$. Tomam os vetores como input e usam os valores no $\\textbf{dim}$ como parâmetros para criar o array."
   ]
  },
  {
   "cell_type": "code",
   "execution_count": 9,
   "metadata": {},
   "outputs": [],
   "source": [
    "# Criando os vetores\n",
    "vetor_1 <- c(5,9,3)\n",
    "vetor_2 <- c(10,11,12,13,14,15)"
   ]
  },
  {
   "cell_type": "code",
   "execution_count": 12,
   "metadata": {},
   "outputs": [
    {
     "name": "stdout",
     "output_type": "stream",
     "text": [
      ", , 1\n",
      "\n",
      "     [,1] [,2] [,3]\n",
      "[1,]    5   10   13\n",
      "[2,]    9   11   14\n",
      "[3,]    3   12   15\n",
      "\n",
      ", , 2\n",
      "\n",
      "     [,1] [,2] [,3]\n",
      "[1,]    5   10   13\n",
      "[2,]    9   11   14\n",
      "[3,]    3   12   15\n",
      "\n"
     ]
    }
   ],
   "source": [
    "# Criando o array de dimensão (3,3,2), isso é, duas matrizes 3x3\n",
    "meu_array <- array(c(vetor_1,vetor_2),dim = c(3,3,2))\n",
    "print(meu_array)"
   ]
  },
  {
   "cell_type": "markdown",
   "metadata": {},
   "source": [
    "- Podemos nomear as matrizes, suas linhas e suas colunas"
   ]
  },
  {
   "cell_type": "code",
   "execution_count": 13,
   "metadata": {},
   "outputs": [
    {
     "name": "stdout",
     "output_type": "stream",
     "text": [
      ", , Matriz_1\n",
      "\n",
      "   C1 C2 C3\n",
      "L1  5 10 13\n",
      "L2  9 11 14\n",
      "L3  3 12 15\n",
      "\n",
      ", , Matriz_2\n",
      "\n",
      "   C1 C2 C3\n",
      "L1  5 10 13\n",
      "L2  9 11 14\n",
      "L3  3 12 15\n",
      "\n"
     ]
    }
   ],
   "source": [
    "colunas <- c(\"C1\",\"C2\",\"C3\")\n",
    "linhas <- c(\"L1\",\"L2\",\"L3\")\n",
    "matrizes <- c(\"Matriz_1\",\"Matriz_2\")\n",
    "array_nomeado <- array(c(vetor_1,vetor_2),dim = c(3,3,2),dimnames = list(linhas,colunas,\n",
    "   matrizes))\n",
    "print(array_nomeado)"
   ]
  },
  {
   "cell_type": "markdown",
   "metadata": {},
   "source": [
    "- Podemos acessar os elementos\n",
    "                [ linha, coluna, matriz]"
   ]
  },
  {
   "cell_type": "code",
   "execution_count": 14,
   "metadata": {},
   "outputs": [
    {
     "name": "stdout",
     "output_type": "stream",
     "text": [
      "   C1 C2 C3\n",
      "L1  5 10 13\n",
      "L2  9 11 14\n",
      "L3  3 12 15\n"
     ]
    }
   ],
   "source": [
    "# A primeira matriz\n",
    "print(array_nomeado[,,1])"
   ]
  },
  {
   "cell_type": "code",
   "execution_count": 15,
   "metadata": {},
   "outputs": [
    {
     "name": "stdout",
     "output_type": "stream",
     "text": [
      "   C1 C2 C3\n",
      "L1  5 10 13\n",
      "L2  9 11 14\n",
      "L3  3 12 15\n"
     ]
    }
   ],
   "source": [
    "# A segunda matriz\n",
    "print(array_nomeado[,,2])"
   ]
  },
  {
   "cell_type": "code",
   "execution_count": 16,
   "metadata": {},
   "outputs": [
    {
     "name": "stdout",
     "output_type": "stream",
     "text": [
      "C1 C2 C3 \n",
      " 9 11 14 \n"
     ]
    }
   ],
   "source": [
    "# A segunda linha da primeira matriz\n",
    "print(array_nomeado[2,,1])"
   ]
  },
  {
   "cell_type": "code",
   "execution_count": 17,
   "metadata": {},
   "outputs": [
    {
     "name": "stdout",
     "output_type": "stream",
     "text": [
      "[1] 3\n"
     ]
    }
   ],
   "source": [
    "# Elemento da terceira linha da primeira coluna da segunda matriz\n",
    "print(array_nomeado[3,1,2])"
   ]
  },
  {
   "cell_type": "markdown",
   "metadata": {},
   "source": [
    "- Podemos manipular o array "
   ]
  },
  {
   "cell_type": "code",
   "execution_count": 24,
   "metadata": {},
   "outputs": [],
   "source": [
    "vetor_3 <- c(9,1,0)\n",
    "vetor_4 <- c(6,0,11,3,14,1,2,6,9)\n",
    "array_2 <- array(c(vetor_3,vetor_4),dim = c(3,3,2))\n",
    "matriz1 <- meu_array[,,1]\n",
    "matriz2 <- array_2[,,2]"
   ]
  },
  {
   "cell_type": "code",
   "execution_count": 25,
   "metadata": {},
   "outputs": [
    {
     "name": "stdout",
     "output_type": "stream",
     "text": [
      ", , 1\n",
      "\n",
      "     [,1] [,2] [,3]\n",
      "[1,]    9    6    3\n",
      "[2,]    1    0   14\n",
      "[3,]    0   11    1\n",
      "\n",
      ", , 2\n",
      "\n",
      "     [,1] [,2] [,3]\n",
      "[1,]    2    9    6\n",
      "[2,]    6    1    0\n",
      "[3,]    9    0   11\n",
      "\n"
     ]
    }
   ],
   "source": [
    "print(array_2)"
   ]
  },
  {
   "cell_type": "code",
   "execution_count": 26,
   "metadata": {},
   "outputs": [
    {
     "name": "stdout",
     "output_type": "stream",
     "text": [
      ", , 1\n",
      "\n",
      "     [,1] [,2] [,3]\n",
      "[1,]    5   10   13\n",
      "[2,]    9   11   14\n",
      "[3,]    3   12   15\n",
      "\n",
      ", , 2\n",
      "\n",
      "     [,1] [,2] [,3]\n",
      "[1,]    5   10   13\n",
      "[2,]    9   11   14\n",
      "[3,]    3   12   15\n",
      "\n"
     ]
    }
   ],
   "source": [
    "print(meu_array)"
   ]
  },
  {
   "cell_type": "code",
   "execution_count": 27,
   "metadata": {},
   "outputs": [
    {
     "name": "stdout",
     "output_type": "stream",
     "text": [
      "     [,1] [,2] [,3]\n",
      "[1,]    5   10   13\n",
      "[2,]    9   11   14\n",
      "[3,]    3   12   15\n"
     ]
    }
   ],
   "source": [
    "print(matriz1)"
   ]
  },
  {
   "cell_type": "code",
   "execution_count": 28,
   "metadata": {},
   "outputs": [
    {
     "name": "stdout",
     "output_type": "stream",
     "text": [
      "     [,1] [,2] [,3]\n",
      "[1,]    2    9    6\n",
      "[2,]    6    1    0\n",
      "[3,]    9    0   11\n"
     ]
    }
   ],
   "source": [
    "print(matriz2)"
   ]
  },
  {
   "cell_type": "markdown",
   "metadata": {},
   "source": [
    "- Podemos fazer cálculos em todos os elementos de uma matriz usando a função $\\textbf{apply ()}$.\n",
    "\n",
    "                apply(array, data set usado, função)"
   ]
  },
  {
   "cell_type": "code",
   "execution_count": 31,
   "metadata": {},
   "outputs": [
    {
     "name": "stdout",
     "output_type": "stream",
     "text": [
      "[1] 35 22 32\n"
     ]
    }
   ],
   "source": [
    "# Calcularemos a soma das linhas de todo o array\n",
    "soma_linhas <- apply(array_2, c(1), sum)\n",
    "print(soma_linhas)"
   ]
  },
  {
   "cell_type": "code",
   "execution_count": 33,
   "metadata": {},
   "outputs": [
    {
     "name": "stdout",
     "output_type": "stream",
     "text": [
      "[1] 5.833333 3.666667 5.333333\n"
     ]
    }
   ],
   "source": [
    "mean_linhas <- apply(array_2, c(1), mean)\n",
    "print(mean_linhas)"
   ]
  },
  {
   "cell_type": "markdown",
   "metadata": {},
   "source": [
    "# Factors\n",
    "\n",
    "Factors são usados para categorizar os dados e armazenar os níveis.\n"
   ]
  },
  {
   "cell_type": "code",
   "execution_count": 34,
   "metadata": {},
   "outputs": [
    {
     "name": "stdout",
     "output_type": "stream",
     "text": [
      " [1] \"East\"  \"West\"  \"East\"  \"North\" \"North\" \"East\"  \"West\"  \"West\"  \"West\" \n",
      "[10] \"East\"  \"North\"\n",
      "[1] FALSE\n"
     ]
    }
   ],
   "source": [
    "data <- c(\"East\",\"West\",\"East\",\"North\",\"North\",\"East\",\"West\",\"West\",\"West\",\"East\",\"North\")\n",
    "print(data)\n",
    "print(is.factor(data))\n"
   ]
  },
  {
   "cell_type": "code",
   "execution_count": 35,
   "metadata": {},
   "outputs": [
    {
     "name": "stdout",
     "output_type": "stream",
     "text": [
      " [1] East  West  East  North North East  West  West  West  East  North\n",
      "Levels: East North West\n",
      "[1] TRUE\n"
     ]
    }
   ],
   "source": [
    "factor_data <- factor(data)\n",
    "print(factor_data)\n",
    "print(is.factor(factor_data))"
   ]
  },
  {
   "cell_type": "markdown",
   "metadata": {},
   "source": [
    "- Podemos usar Factors dentro de Data Frames\n",
    "\n",
    "Quando criamos um Data Frame com uma das colunas com texto (strings), R trata essa coluna como factor."
   ]
  },
  {
   "cell_type": "code",
   "execution_count": 37,
   "metadata": {},
   "outputs": [
    {
     "name": "stdout",
     "output_type": "stream",
     "text": [
      "  height weight gender\n",
      "1    132     48   male\n",
      "2    151     49   male\n",
      "3    162     66 female\n",
      "4    139     53 female\n",
      "5    166     67   male\n",
      "6    147     52 female\n",
      "7    122     40   male\n"
     ]
    }
   ],
   "source": [
    "# Criando os vetores para a tabela\n",
    "height <- c(132,151,162,139,166,147,122)\n",
    "weight <- c(48,49,66,53,67,52,40)\n",
    "gender <- c(\"male\",\"male\",\"female\",\"female\",\"male\",\"female\",\"male\")\n",
    "\n",
    "# Criando a tabela\n",
    "input_data <- data.frame(height,weight,gender)\n",
    "print(input_data)"
   ]
  },
  {
   "cell_type": "code",
   "execution_count": 38,
   "metadata": {},
   "outputs": [
    {
     "name": "stdout",
     "output_type": "stream",
     "text": [
      "[1] TRUE\n"
     ]
    }
   ],
   "source": [
    "print(is.factor(input_data$gender))"
   ]
  },
  {
   "cell_type": "code",
   "execution_count": 40,
   "metadata": {},
   "outputs": [
    {
     "name": "stdout",
     "output_type": "stream",
     "text": [
      "[1] male   male   female female male   female male  \n",
      "Levels: female male\n"
     ]
    }
   ],
   "source": [
    "print(input_data$gender)"
   ]
  },
  {
   "cell_type": "markdown",
   "metadata": {},
   "source": [
    "- Podemos trocar a ordem dos níveis\n"
   ]
  },
  {
   "cell_type": "code",
   "execution_count": 42,
   "metadata": {},
   "outputs": [
    {
     "name": "stdout",
     "output_type": "stream",
     "text": [
      " [1] East  West  East  North North East  West  West  West  East  North\n",
      "Levels: East North West\n",
      " [1] East  West  East  North North East  West  West  West  East  North\n",
      "Levels: East West North\n"
     ]
    }
   ],
   "source": [
    "print(factor_data)\n",
    "nova_ordem <- factor(factor_data,levels = c(\"East\",\"West\",\"North\"))\n",
    "print(nova_ordem)"
   ]
  },
  {
   "cell_type": "markdown",
   "metadata": {},
   "source": [
    "- Podemos gerar níveis em factors\n",
    "\n",
    "Usamos a função $\\textbf{gl()}$ dessa forma:\n",
    "\n",
    "                gl(n, k, labels)\n",
    "                \n",
    "onde n é a quantidade de níveis, k é o número de vezes que queremos que cada nível seja repetido e labels é o vetor dos rótulos dado como resultado do factor.\n"
   ]
  },
  {
   "cell_type": "code",
   "execution_count": 43,
   "metadata": {},
   "outputs": [
    {
     "name": "stdout",
     "output_type": "stream",
     "text": [
      " [1] Tampa   Tampa   Tampa   Tampa   Seattle Seattle Seattle Seattle Boston \n",
      "[10] Boston  Boston  Boston \n",
      "Levels: Tampa Seattle Boston\n"
     ]
    }
   ],
   "source": [
    "v <- gl(3, 4, labels = c(\"Tampa\", \"Seattle\",\"Boston\"))\n",
    "print(v)"
   ]
  },
  {
   "cell_type": "markdown",
   "metadata": {},
   "source": [
    "# Data Frames:\n",
    "\n",
    "As tabelas possuem as seguintes características:\n",
    "- As colunas devem ter nomes;\n",
    "- Nome de linha deve ser único;\n",
    "- O dado armazenado pode ser numérico, factor ou string;\n",
    "- Toda coluna precisa conter o mesmo nómero de itens."
   ]
  },
  {
   "cell_type": "code",
   "execution_count": 45,
   "metadata": {},
   "outputs": [
    {
     "name": "stdout",
     "output_type": "stream",
     "text": [
      "  emp_id emp_name salary start_date\n",
      "1      1     Rick 623.30 2012-01-01\n",
      "2      2      Dan 515.20 2013-09-23\n",
      "3      3 Michelle 611.00 2014-11-15\n",
      "4      4     Ryan 729.00 2014-05-11\n",
      "5      5     Gary 843.25 2015-03-27\n"
     ]
    }
   ],
   "source": [
    "emp.data <- data.frame(\n",
    "   emp_id = c (1:5), \n",
    "   emp_name = c(\"Rick\",\"Dan\",\"Michelle\",\"Ryan\",\"Gary\"),\n",
    "   salary = c(623.3,515.2,611.0,729.0,843.25), \n",
    "   \n",
    "   start_date = as.Date(c(\"2012-01-01\", \"2013-09-23\", \"2014-11-15\", \"2014-05-11\",\n",
    "      \"2015-03-27\")),\n",
    "   stringsAsFactors = FALSE\n",
    ")\n",
    "\n",
    "print(emp.data) "
   ]
  },
  {
   "cell_type": "markdown",
   "metadata": {},
   "source": [
    "- Podemos ver a estrutura do Data Frame através da função $\\textbf{str()}$"
   ]
  },
  {
   "cell_type": "code",
   "execution_count": 47,
   "metadata": {},
   "outputs": [
    {
     "name": "stdout",
     "output_type": "stream",
     "text": [
      "'data.frame':\t5 obs. of  4 variables:\n",
      " $ emp_id    : int  1 2 3 4 5\n",
      " $ emp_name  : chr  \"Rick\" \"Dan\" \"Michelle\" \"Ryan\" ...\n",
      " $ salary    : num  623 515 611 729 843\n",
      " $ start_date: Date, format: \"2012-01-01\" \"2013-09-23\" ...\n"
     ]
    }
   ],
   "source": [
    "# Criando uma nova tabela\n",
    "emp.data <- data.frame(\n",
    "   emp_id = c (1:5), \n",
    "   emp_name = c(\"Rick\",\"Dan\",\"Michelle\",\"Ryan\",\"Gary\"),\n",
    "   salary = c(623.3,515.2,611.0,729.0,843.25), \n",
    "   \n",
    "   start_date = as.Date(c(\"2012-01-01\", \"2013-09-23\", \"2014-11-15\", \"2014-05-11\",\n",
    "      \"2015-03-27\")),\n",
    "   stringsAsFactors = FALSE\n",
    ")\n",
    "# Vendo a estrutura da tabela\n",
    "str(emp.data)"
   ]
  },
  {
   "cell_type": "markdown",
   "metadata": {},
   "source": [
    "- O resumo estatístico e a natureza dos dados podem ser obtidos através da aplicação da função  $\\textbf{summary()}$"
   ]
  },
  {
   "cell_type": "code",
   "execution_count": 48,
   "metadata": {},
   "outputs": [
    {
     "data": {
      "text/plain": [
       "     emp_id    emp_name             salary        start_date        \n",
       " Min.   :1   Length:5           Min.   :515.2   Min.   :2012-01-01  \n",
       " 1st Qu.:2   Class :character   1st Qu.:611.0   1st Qu.:2013-09-23  \n",
       " Median :3   Mode  :character   Median :623.3   Median :2014-05-11  \n",
       " Mean   :3                      Mean   :664.4   Mean   :2014-01-14  \n",
       " 3rd Qu.:4                      3rd Qu.:729.0   3rd Qu.:2014-11-15  \n",
       " Max.   :5                      Max.   :843.2   Max.   :2015-03-27  "
      ]
     },
     "metadata": {},
     "output_type": "display_data"
    }
   ],
   "source": [
    "summary(emp.data)"
   ]
  },
  {
   "cell_type": "markdown",
   "metadata": {},
   "source": [
    "- Podemos extrair os dados de alguma coluna"
   ]
  },
  {
   "cell_type": "code",
   "execution_count": 51,
   "metadata": {},
   "outputs": [
    {
     "name": "stdout",
     "output_type": "stream",
     "text": [
      "  emp.data.emp_name emp.data.salary\n",
      "1              Rick          623.30\n",
      "2               Dan          515.20\n",
      "3          Michelle          611.00\n",
      "4              Ryan          729.00\n",
      "5              Gary          843.25\n"
     ]
    }
   ],
   "source": [
    "# Usa-se $ para chamar a coluna\n",
    "nome_e_salario <- data.frame(emp.data$emp_name,emp.data$salary) \n",
    "print(nome_e_salario)"
   ]
  },
  {
   "cell_type": "markdown",
   "metadata": {},
   "source": [
    "- Podemos extrair os dados de alguma linha "
   ]
  },
  {
   "cell_type": "code",
   "execution_count": 53,
   "metadata": {},
   "outputs": [
    {
     "name": "stdout",
     "output_type": "stream",
     "text": [
      "  emp_id emp_name salary start_date\n",
      "1      1     Rick  623.3 2012-01-01\n",
      "2      2      Dan  515.2 2013-09-23\n"
     ]
    }
   ],
   "source": [
    "Rick_e_Dan <- emp.data[1:2,]\n",
    "print(Rick_e_Dan)"
   ]
  },
  {
   "cell_type": "markdown",
   "metadata": {},
   "source": [
    "- Podemos extrair combinações de linhas e colunas"
   ]
  },
  {
   "cell_type": "code",
   "execution_count": 54,
   "metadata": {},
   "outputs": [
    {
     "name": "stdout",
     "output_type": "stream",
     "text": [
      "  emp_name start_date\n",
      "3 Michelle 2014-11-15\n",
      "5     Gary 2015-03-27\n"
     ]
    }
   ],
   "source": [
    "#linhas 3 e 5 com as colunas 2 e 4\n",
    "result <- emp.data[c(3,5),c(2,4)]  \n",
    "print(result)"
   ]
  },
  {
   "cell_type": "markdown",
   "metadata": {},
   "source": [
    "- Podemos adicionar colunas"
   ]
  },
  {
   "cell_type": "code",
   "execution_count": 55,
   "metadata": {},
   "outputs": [
    {
     "name": "stdout",
     "output_type": "stream",
     "text": [
      "  emp_id emp_name salary start_date       dept\n",
      "1      1     Rick 623.30 2012-01-01         IT\n",
      "2      2      Dan 515.20 2013-09-23 Operations\n",
      "3      3 Michelle 611.00 2014-11-15         IT\n",
      "4      4     Ryan 729.00 2014-05-11         HR\n",
      "5      5     Gary 843.25 2015-03-27    Finance\n"
     ]
    }
   ],
   "source": [
    "emp.data$dept <- c(\"IT\",\"Operations\",\"IT\",\"HR\",\"Finance\")\n",
    "v <- emp.data\n",
    "print(v)"
   ]
  },
  {
   "cell_type": "markdown",
   "metadata": {},
   "source": [
    "- Podemos adicionar linhas\n",
    "\n",
    "\n",
    "Para adicionar mais linhas permanentemente a uma tabela existente, precisamos inserir as novas linhas na mesma estrutura da tabela de dados existente e usar a função $\\textbf{rbind ()}$ para fazer o merge das duas."
   ]
  },
  {
   "cell_type": "code",
   "execution_count": 57,
   "metadata": {},
   "outputs": [
    {
     "name": "stdout",
     "output_type": "stream",
     "text": [
      "  emp_id emp_name salary start_date       dept\n",
      "1      1     Rick 623.30 2012-01-01         IT\n",
      "2      2      Dan 515.20 2013-09-23 Operations\n",
      "3      3 Michelle 611.00 2014-11-15         IT\n",
      "4      4     Ryan 729.00 2014-05-11         HR\n",
      "5      5     Gary 843.25 2015-03-27    Finance\n",
      "6      6     Kate 578.00 2013-05-21         IT\n",
      "7      7     Anne 722.50 2013-07-30 Operations\n",
      "8      8     Liza 632.80 2014-06-17   Fianance\n"
     ]
    }
   ],
   "source": [
    "# Criando a tabela com os novos dados que desejo adicionar\n",
    "emp.newdata <- \tdata.frame(\n",
    "   emp_id = c (6:8), \n",
    "   emp_name = c(\"Kate\",\"Anne\",\"Liza\"),\n",
    "   salary = c(578.0,722.5,632.8), \n",
    "   start_date = as.Date(c(\"2013-05-21\",\"2013-07-30\",\"2014-06-17\")),\n",
    "   dept = c(\"IT\",\"Operations\",\"Fianance\"),\n",
    "   stringsAsFactors = FALSE\n",
    ")\n",
    "\n",
    "# Fazendo o merge das duas tabelas\n",
    "emp.completa <- rbind(emp.data,emp.newdata)\n",
    "print(emp.completa)"
   ]
  },
  {
   "cell_type": "code",
   "execution_count": null,
   "metadata": {},
   "outputs": [],
   "source": []
  }
 ],
 "metadata": {
  "kernelspec": {
   "display_name": "R",
   "language": "R",
   "name": "ir"
  },
  "language_info": {
   "codemirror_mode": "r",
   "file_extension": ".r",
   "mimetype": "text/x-r-source",
   "name": "R",
   "pygments_lexer": "r",
   "version": "3.2.3"
  }
 },
 "nbformat": 4,
 "nbformat_minor": 2
}

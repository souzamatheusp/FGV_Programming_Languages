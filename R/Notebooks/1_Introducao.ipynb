{
 "cells": [
  {
   "cell_type": "markdown",
   "metadata": {
    "collapsed": true
   },
   "source": [
    "# Introdução"
   ]
  },
  {
   "cell_type": "markdown",
   "metadata": {},
   "source": [
    "- R foi criado por Ross Ihaka e Robert Gentleman na Universidade de Auckland, Nova Zelândia, com base na linguagem de programação S,década de 70, e atualmente é desenvolvido pela R Development Core Team\n",
    "- O R foi criado como uma alternativa de código aberto por volta dos anos 90, sendo utilizada por cientistas, estatísticos e, mais recentemente, cientistas de dados como um meio conveniente para a análise exploratória de dados interativos. Ao contrário do que se imagina sobre a linguagem R, ela não é limitada a apenas sessões iterativas, pois devido ao fato de ser uma linguagem de programação, os scripts podem ser criados e empacotados como bibliotecas. As soluções com base em scripts fornecem resultados mais consistentes e confiáveis do que os fluxos de trabalho tradicionais, que requerem uma grande quantidade de interações manuais com uma interface gráfica de usuário.\n",
    "- Conforme mencionado anteriormente, R é uma linguagem de programação e ambiente de software para análise estatística, representação gráfica e relatórios. As seguintes são as características importantes do R -\n",
    "\n",
    "    - R é uma linguagem de programação bem desenvolvida, simples e eficaz que inclui condicionais, loops, funções recursivas definidas pelo usuário e instalações de entrada e saída.\n",
    "\n",
    "    - R possui um mecanismo eficaz de armazenamento e armazenamento de dados,\n",
    "\n",
    "    - R fornece um conjunto de operadores para cálculos em arrays, listas, vetores e matrizes.\n",
    "\n",
    "    - R fornece uma coleção grande, coerente e integrada de ferramentas para análise de dados.\n",
    "\n",
    "    - R fornece instalações gráficas para análise de dados e exibição diretamente no computador ou impressão nos documentos.\n",
    "\n",
    "Como conclusão, R é a linguagem de programação de estatísticas mais usada no mundo. É a escolha número 1 de cientistas de dados e apoiada por uma vibrante e talentosa comunidade de colaboradores. R é ministrado em universidades e implantado em aplicações comerciais de missão crítica. Este tutorial irá ensinar-lhe programação R, juntamente com exemplos adequados, em passos simples e simples."
   ]
  },
  {
   "cell_type": "code",
   "execution_count": 1,
   "metadata": {},
   "outputs": [
    {
     "name": "stdout",
     "output_type": "stream",
     "text": [
      "[1] \"Let´s start with R!!\"\n"
     ]
    }
   ],
   "source": [
    "print(\"Let´s start with R!!\")"
   ]
  },
  {
   "cell_type": "markdown",
   "metadata": {},
   "source": [
    "# Vamos começar! \n",
    "\n",
    "## Data Types:\n",
    "\n",
    "Como definimos uma variável?"
   ]
  },
  {
   "cell_type": "markdown",
   "metadata": {},
   "source": [
    "Em R usamos $ \\textbf{<-}$  para atribuições:\n",
    "\n",
    "Veja o exemplo"
   ]
  },
  {
   "cell_type": "code",
   "execution_count": 2,
   "metadata": {},
   "outputs": [
    {
     "name": "stdout",
     "output_type": "stream",
     "text": [
      "[1] \"Oi turma! \"\n"
     ]
    }
   ],
   "source": [
    "myString <- \"Oi turma! \"\n",
    "print(myString)"
   ]
  },
  {
   "cell_type": "markdown",
   "metadata": {},
   "source": [
    "Em contraste com outras linguagens de programação, em R as variáveis não são declaradas como alguns tipos de dados. As variáveis são atribuídas com R-Objects e o tipo de dados do objeto R torna-se o tipo de dados da variável. Existem muitos tipos de objetos R. Os que são usados com mais frequencia são:\n",
    "\n",
    "- Vetores\n",
    "- Listas\n",
    "- Matrizes\n",
    "- Arrays\n",
    "- Fatores\n",
    "- Data Frame\n",
    "\n",
    "O mais simples desses objetos é o vetor e existem seis tipos de dados desses vetores, também denominados como seis classes de vetores. Os outros R-Objects são construídos sobre os vetores.\n"
   ]
  },
  {
   "cell_type": "markdown",
   "metadata": {},
   "source": [
    "#### Tipos de dados:\n",
    "\n",
    "- Booleno/lógico: TRUE, FALSE\n"
   ]
  },
  {
   "cell_type": "code",
   "execution_count": 3,
   "metadata": {},
   "outputs": [
    {
     "name": "stdout",
     "output_type": "stream",
     "text": [
      "[1] \"logical\"\n"
     ]
    }
   ],
   "source": [
    "v <- TRUE\n",
    "print(class(v))"
   ]
  },
  {
   "cell_type": "markdown",
   "metadata": {},
   "source": [
    "- Numéricos:"
   ]
  },
  {
   "cell_type": "code",
   "execution_count": 4,
   "metadata": {},
   "outputs": [
    {
     "name": "stdout",
     "output_type": "stream",
     "text": [
      "[1] \"numeric\"\n"
     ]
    }
   ],
   "source": [
    "n <- 2017.2\n",
    "print(class(n))"
   ]
  },
  {
   "cell_type": "markdown",
   "metadata": {},
   "source": [
    "- Inteiros:"
   ]
  },
  {
   "cell_type": "code",
   "execution_count": 6,
   "metadata": {},
   "outputs": [
    {
     "name": "stdout",
     "output_type": "stream",
     "text": [
      "[1] \"integer\"\n"
     ]
    }
   ],
   "source": [
    "i <- 2L\n",
    "print(class(i))"
   ]
  },
  {
   "cell_type": "markdown",
   "metadata": {},
   "source": [
    "- Complexos:"
   ]
  },
  {
   "cell_type": "code",
   "execution_count": 7,
   "metadata": {},
   "outputs": [
    {
     "name": "stdout",
     "output_type": "stream",
     "text": [
      "[1] \"complex\"\n"
     ]
    }
   ],
   "source": [
    "c <- 2+5i\n",
    "print(class(c))"
   ]
  },
  {
   "cell_type": "markdown",
   "metadata": {},
   "source": [
    "- Character (strings): \n"
   ]
  },
  {
   "cell_type": "code",
   "execution_count": 8,
   "metadata": {},
   "outputs": [
    {
     "name": "stdout",
     "output_type": "stream",
     "text": [
      "[1] \"character\"\n"
     ]
    }
   ],
   "source": [
    "k <- \"Olá\"\n",
    "print(class(k))"
   ]
  },
  {
   "cell_type": "markdown",
   "metadata": {},
   "source": [
    "- Raw:\n",
    "\n",
    "\"Hello\" é armazenado como 48 65 6c 6c 6f\n",
    "\n",
    "O tipo raw destina-se a armazenar raw bytes. É possível extrair subseqüências de bytes e substituir elementos (mas apenas por elementos de um raw vector). Os operadores relacionais funcionam assim como os operadores lógicos, com uma interpretação bit a bit."
   ]
  },
  {
   "cell_type": "code",
   "execution_count": 9,
   "metadata": {},
   "outputs": [
    {
     "name": "stdout",
     "output_type": "stream",
     "text": [
      "[1] \"raw\"\n"
     ]
    }
   ],
   "source": [
    "r <- charToRaw(\"Hello\")\n",
    "print(class(r))"
   ]
  },
  {
   "cell_type": "markdown",
   "metadata": {
    "collapsed": true
   },
   "source": [
    "## Vetores:"
   ]
  },
  {
   "cell_type": "markdown",
   "metadata": {},
   "source": [
    "Para escrevermos um vetor com mais de um elementos usamos a função $\\textbf{c( )}$ que combina os elementos em um vetor:"
   ]
  },
  {
   "cell_type": "code",
   "execution_count": 11,
   "metadata": {},
   "outputs": [
    {
     "name": "stdout",
     "output_type": "stream",
     "text": [
      "[1] \"R\"      \"C\"      \"Python\"\n",
      "[1] \"character\"\n"
     ]
    }
   ],
   "source": [
    "# Criando um vetor \n",
    "linguagens <- c('R', 'C', 'Python')\n",
    "print(linguagens)\n",
    "print(class(linguagens))"
   ]
  },
  {
   "cell_type": "markdown",
   "metadata": {},
   "source": [
    "## Listas:"
   ]
  },
  {
   "cell_type": "markdown",
   "metadata": {},
   "source": [
    "Listas podem conter muitos tipos diferentes dentro dela, como vetores, funções, outras listas, etc."
   ]
  },
  {
   "cell_type": "code",
   "execution_count": 14,
   "metadata": {},
   "outputs": [
    {
     "name": "stdout",
     "output_type": "stream",
     "text": [
      "[[1]]\n",
      "[1] 1 2 3\n",
      "\n",
      "[[2]]\n",
      "[1] \"a\"\n",
      "\n",
      "[[3]]\n",
      "[1] 22\n",
      "\n",
      "[[4]]\n",
      "function (x)  .Primitive(\"sin\")\n",
      "\n"
     ]
    }
   ],
   "source": [
    "# Criando uma lista\n",
    "lista <- list(c(1,2,3), \"a\", 22, sin)\n",
    "print(lista)"
   ]
  },
  {
   "cell_type": "markdown",
   "metadata": {},
   "source": [
    "## Matriz:"
   ]
  },
  {
   "cell_type": "markdown",
   "metadata": {},
   "source": [
    "A matriz é um data set bidimensional"
   ]
  },
  {
   "cell_type": "code",
   "execution_count": 2,
   "metadata": {},
   "outputs": [
    {
     "name": "stdout",
     "output_type": "stream",
     "text": [
      "     [,1] [,2] [,3]\n",
      "[1,]    1    3    5\n",
      "[2,]    2    4    6\n"
     ]
    }
   ],
   "source": [
    "# Criando uma matriz\n",
    "M = matrix( c( 1, 2 , 3 , 4 , 5 , 6), nrow = 2, ncol = 3, byrow = FALSE)\n",
    "print(M)"
   ]
  },
  {
   "cell_type": "markdown",
   "metadata": {
    "collapsed": true
   },
   "source": [
    "# Array\n",
    "\n",
    "Os arrays são data sets que podem ter a dimensão que quisermos.\n"
   ]
  },
  {
   "cell_type": "code",
   "execution_count": 2,
   "metadata": {},
   "outputs": [
    {
     "name": "stdout",
     "output_type": "stream",
     "text": [
      ", , 1\n",
      "\n",
      "     [,1]     [,2]    \n",
      "[1,] \"green\"  \"yellow\"\n",
      "[2,] \"yellow\" \"green\" \n",
      "[3,] \"green\"  \"yellow\"\n",
      "\n",
      ", , 2\n",
      "\n",
      "     [,1]     [,2]    \n",
      "[1,] \"green\"  \"yellow\"\n",
      "[2,] \"yellow\" \"green\" \n",
      "[3,] \"green\"  \"yellow\"\n",
      "\n"
     ]
    }
   ],
   "source": [
    "# Criando um array\n",
    "a <- array(c('green','yellow'),dim = c(3,2,2))\n",
    "print(a)"
   ]
  },
  {
   "cell_type": "markdown",
   "metadata": {},
   "source": [
    "# Factors\n",
    "\n",
    "Os factors são criados usando vetores. Ele armazenam o vetor com seus elementos distintos como rótulos.\n",
    "Usamos a função $\\textbf{factor()}$ e $\\textbf{nlevels}$ para descobrir o número de níveis."
   ]
  },
  {
   "cell_type": "code",
   "execution_count": 3,
   "metadata": {},
   "outputs": [
    {
     "name": "stdout",
     "output_type": "stream",
     "text": [
      "[1] green  green  yellow red    red    red    green \n",
      "Levels: green red yellow\n",
      "[1] 3\n"
     ]
    }
   ],
   "source": [
    "apple_colors <- c('green','green','yellow','red','red','red','green')\n",
    "factor_apple <- factor(apple_colors)\n",
    "print(factor_apple)\n",
    "print(nlevels(factor_apple))"
   ]
  },
  {
   "cell_type": "code",
   "execution_count": 5,
   "metadata": {},
   "outputs": [
    {
     "name": "stdout",
     "output_type": "stream",
     "text": [
      " [1] Ana     Matheus Gabriel Antônia Vitor   Marcela Matheus Ana     Ana    \n",
      "[10] Bianca \n",
      "Levels: Ana Antônia Bianca Gabriel Marcela Matheus Vitor\n",
      "[1] 7\n"
     ]
    }
   ],
   "source": [
    "nomes <- c('Ana', 'Matheus', 'Gabriel', 'Antônia', 'Vitor', 'Marcela', 'Matheus', 'Ana', 'Ana', 'Bianca')\n",
    "factor_nomes <- factor(nomes)\n",
    "print(factor_nomes)\n",
    "print(nlevels(factor_nomes))"
   ]
  },
  {
   "cell_type": "markdown",
   "metadata": {},
   "source": [
    "# Data Frame:\n",
    "\n",
    "São tabelas que possuem, em cada coluna, diferentes tipos de dados."
   ]
  },
  {
   "cell_type": "code",
   "execution_count": 6,
   "metadata": {},
   "outputs": [
    {
     "name": "stdout",
     "output_type": "stream",
     "text": [
      "  gender height weight Age\n",
      "1   Male  152.0     81  42\n",
      "2   Male  171.5     93  38\n",
      "3 Female  165.0     78  26\n"
     ]
    }
   ],
   "source": [
    "BMI <- \tdata.frame(\n",
    "   gender = c(\"Male\", \"Male\",\"Female\"), \n",
    "   height = c(152, 171.5, 165), \n",
    "   weight = c(81,93, 78),\n",
    "   Age = c(42,38,26)\n",
    ")\n",
    "print(BMI)"
   ]
  },
  {
   "cell_type": "code",
   "execution_count": null,
   "metadata": {},
   "outputs": [],
   "source": []
  }
 ],
 "metadata": {
  "kernelspec": {
   "display_name": "R",
   "language": "R",
   "name": "ir"
  },
  "language_info": {
   "codemirror_mode": "r",
   "file_extension": ".r",
   "mimetype": "text/x-r-source",
   "name": "R",
   "pygments_lexer": "r",
   "version": "3.2.3"
  }
 },
 "nbformat": 4,
 "nbformat_minor": 2
}

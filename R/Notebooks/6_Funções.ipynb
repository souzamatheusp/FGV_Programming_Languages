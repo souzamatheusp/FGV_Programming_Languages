{
 "cells": [
  {
   "cell_type": "markdown",
   "metadata": {},
   "source": [
    "# Funções\n",
    "\n",
    "- Definimos funções da seguinte maneira:\n",
    "\n",
    "                            function_name <- function(arg_1, arg_2, ...) {\n",
    "\n",
    "                               'Function body \n",
    "   \n",
    "                             }"
   ]
  },
  {
   "cell_type": "markdown",
   "metadata": {},
   "source": [
    "### Funções Built-in \n",
    "\n",
    "São funções prontas. São elas:\n",
    "- paste()\n",
    "- max()\n",
    "- seq()\n",
    "- mean()\n",
    "- sum()"
   ]
  },
  {
   "cell_type": "code",
   "execution_count": 5,
   "metadata": {},
   "outputs": [
    {
     "name": "stdout",
     "output_type": "stream",
     "text": [
      " [1]  0  1  2  3  4  5  6  7  8  9 10\n",
      "[1] 30\n",
      "[1] 45\n",
      "[1] 43\n",
      "[1] \"funções built-in\"\n"
     ]
    }
   ],
   "source": [
    "# Seq\n",
    "print(seq(0,10))\n",
    "\n",
    "# Mean\n",
    "print(mean(10:50))\n",
    "\n",
    "#Sum\n",
    "print(sum(1:9))\n",
    "\n",
    "#Max\n",
    "print(max(1,2.3,2,3,4,8,12,43,-4,-1))\n",
    "\n",
    "#Paste\n",
    "print(paste( 'funções', 'built-in'))"
   ]
  },
  {
   "cell_type": "markdown",
   "metadata": {},
   "source": [
    "## Criando a função"
   ]
  },
  {
   "cell_type": "code",
   "execution_count": 6,
   "metadata": {},
   "outputs": [],
   "source": [
    "myfirst.function <- function(a) {\n",
    "   for(i in 1:a) {\n",
    "      b <- i^2\n",
    "      print(b)\n",
    "   }\n",
    "}\t"
   ]
  },
  {
   "cell_type": "code",
   "execution_count": 7,
   "metadata": {},
   "outputs": [
    {
     "name": "stdout",
     "output_type": "stream",
     "text": [
      "[1] 1\n",
      "[1] 4\n"
     ]
    }
   ],
   "source": [
    "myfirst.function(2)"
   ]
  },
  {
   "cell_type": "code",
   "execution_count": 8,
   "metadata": {},
   "outputs": [
    {
     "name": "stdout",
     "output_type": "stream",
     "text": [
      "[1] 1\n",
      "[1] 4\n",
      "[1] 9\n",
      "[1] 16\n",
      "[1] 25\n",
      "[1] 36\n",
      "[1] 49\n",
      "[1] 64\n",
      "[1] 81\n",
      "[1] 100\n",
      "[1] 121\n",
      "[1] 144\n",
      "[1] 169\n",
      "[1] 196\n",
      "[1] 225\n",
      "[1] 256\n",
      "[1] 289\n",
      "[1] 324\n",
      "[1] 361\n",
      "[1] 400\n"
     ]
    }
   ],
   "source": [
    "myfirst.function(20)"
   ]
  },
  {
   "cell_type": "code",
   "execution_count": 9,
   "metadata": {},
   "outputs": [],
   "source": [
    "mysecond.function <- function(a) {\n",
    "   for(i in 1:a) {\n",
    "      b <- paste(\"number\", i)\n",
    "      print(b)\n",
    "   }\n",
    "}\t"
   ]
  },
  {
   "cell_type": "code",
   "execution_count": 11,
   "metadata": {},
   "outputs": [
    {
     "name": "stdout",
     "output_type": "stream",
     "text": [
      "[1] \"number 1\"\n",
      "[1] \"number 2\"\n",
      "[1] \"number 3\"\n",
      "[1] \"number 4\"\n",
      "[1] \"number 5\"\n",
      "[1] \"number 6\"\n",
      "[1] \"number 7\"\n",
      "[1] \"number 8\"\n",
      "[1] \"number 9\"\n",
      "[1] \"number 10\"\n"
     ]
    }
   ],
   "source": [
    "mysecond.function(10)"
   ]
  },
  {
   "cell_type": "code",
   "execution_count": 17,
   "metadata": {},
   "outputs": [
    {
     "name": "stdout",
     "output_type": "stream",
     "text": [
      "[1] -4\n",
      "[1] -3\n",
      "[1] -2\n",
      "[1] -1\n",
      "[1] 0\n",
      "[1] 1\n"
     ]
    }
   ],
   "source": [
    "m.function <- function(a) {\n",
    "   for(i in -5:a) {\n",
    "      b <- i\n",
    "      c <- i+2    \n",
    "      print(mean(b:c))\n",
    "   }\n",
    "}\t\n",
    "mean.function(0)"
   ]
  },
  {
   "cell_type": "code",
   "execution_count": 20,
   "metadata": {},
   "outputs": [
    {
     "name": "stdout",
     "output_type": "stream",
     "text": [
      "[1] 9\n",
      "[1] 19\n"
     ]
    }
   ],
   "source": [
    "new.function <- function(a,b,c) {\n",
    "   result <- a * b + c\n",
    "   print(result)\n",
    "}\n",
    "new.function(3,2,3)\n",
    "new.function(a=2,b=7,c=5) #podemos declarar os argumentos pelo nome\n"
   ]
  },
  {
   "cell_type": "code",
   "execution_count": 25,
   "metadata": {},
   "outputs": [
    {
     "name": "stdout",
     "output_type": "stream",
     "text": [
      "[1] 56\n",
      "[1] 117\n",
      "[1] 56\n"
     ]
    }
   ],
   "source": [
    "multiplicacao <- function(a = 7, b = 8) {\n",
    "   resultado <- a * b\n",
    "   print(resultado)\n",
    "}\n",
    "multiplicacao()\n",
    "multiplicacao(13, 9) #outros argumentos podem ser chamados sem interferir na função original.\n",
    "multiplicacao()  #multiplicacao() continua dando o seu resultado original para os argumentos a = 7, b = 8."
   ]
  },
  {
   "cell_type": "markdown",
   "metadata": {},
   "source": [
    "##### As funções em R são lazy evaluation, só avaliam os argumentos quando eles são solicitados no corpo da função"
   ]
  },
  {
   "cell_type": "code",
   "execution_count": 27,
   "metadata": {},
   "outputs": [
    {
     "ename": "ERROR",
     "evalue": "Error in outra.funcao(2): argument \"b\" is missing, with no default\n",
     "output_type": "error",
     "traceback": [
      "Error in outra.funcao(2): argument \"b\" is missing, with no default\nTraceback:\n",
      "1. outra.funcao(2)"
     ]
    }
   ],
   "source": [
    "outra.funcao <- function(a,b) {\n",
    "    x <- 2*a^2+3*a\n",
    "    c <- 7*b\n",
    "    resultado <- x+c\n",
    "    print(resultado)\n",
    "}\n",
    "outra.funcao(2)"
   ]
  },
  {
   "cell_type": "code",
   "execution_count": 28,
   "metadata": {},
   "outputs": [
    {
     "name": "stdout",
     "output_type": "stream",
     "text": [
      "[1] 49\n"
     ]
    }
   ],
   "source": [
    "outra.funcao(2,5)"
   ]
  },
  {
   "cell_type": "code",
   "execution_count": null,
   "metadata": {},
   "outputs": [],
   "source": []
  }
 ],
 "metadata": {
  "kernelspec": {
   "display_name": "R",
   "language": "R",
   "name": "ir"
  },
  "language_info": {
   "codemirror_mode": "r",
   "file_extension": ".r",
   "mimetype": "text/x-r-source",
   "name": "R",
   "pygments_lexer": "r",
   "version": "3.2.3"
  }
 },
 "nbformat": 4,
 "nbformat_minor": 2
}

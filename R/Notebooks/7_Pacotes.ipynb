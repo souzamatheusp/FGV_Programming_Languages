{
 "cells": [
  {
   "cell_type": "markdown",
   "metadata": {},
   "source": [
    "# Pacotes\n",
    "\n",
    "Os pacotes R são uma coleção de funções R, código cumprido e dados de amostra. Eles são armazenados em um diretório chamado $\\textbf{\"library\"}$ no ambiente R\n",
    "\n",
    "- Checamos onde estão os pacotes instalados dessa forma:"
   ]
  },
  {
   "cell_type": "code",
   "execution_count": 3,
   "metadata": {},
   "outputs": [
    {
     "data": {
      "text/html": [
       "<ol class=list-inline>\n",
       "\t<li>'/usr/local/lib/R/site-library'</li>\n",
       "\t<li>'/usr/lib/R/site-library'</li>\n",
       "\t<li>'/usr/lib/R/library'</li>\n",
       "</ol>\n"
      ],
      "text/latex": [
       "\\begin{enumerate*}\n",
       "\\item '/usr/local/lib/R/site-library'\n",
       "\\item '/usr/lib/R/site-library'\n",
       "\\item '/usr/lib/R/library'\n",
       "\\end{enumerate*}\n"
      ],
      "text/markdown": [
       "1. '/usr/local/lib/R/site-library'\n",
       "2. '/usr/lib/R/site-library'\n",
       "3. '/usr/lib/R/library'\n",
       "\n",
       "\n"
      ],
      "text/plain": [
       "[1] \"/usr/local/lib/R/site-library\" \"/usr/lib/R/site-library\"      \n",
       "[3] \"/usr/lib/R/library\"           "
      ]
     },
     "metadata": {},
     "output_type": "display_data"
    }
   ],
   "source": [
    ".libPaths()"
   ]
  },
  {
   "cell_type": "markdown",
   "metadata": {},
   "source": [
    "- E descobrimos os pacotes instalados com $\\textbf{library()}$"
   ]
  },
  {
   "cell_type": "code",
   "execution_count": 4,
   "metadata": {},
   "outputs": [
    {
     "name": "stderr",
     "output_type": "stream",
     "text": [
      "Warning message in library():\n",
      "“library ‘/usr/lib/R/site-library’ contains no packages”"
     ]
    },
    {
     "data": {},
     "metadata": {},
     "output_type": "display_data"
    }
   ],
   "source": [
    "library()"
   ]
  },
  {
   "cell_type": "markdown",
   "metadata": {},
   "source": [
    "Quando executamos o código library(), ele produz o resultado acima, que pode variar de acordo com as configurações locais do seu PC."
   ]
  },
  {
   "cell_type": "markdown",
   "metadata": {},
   "source": [
    "- Obtemos todos os pacotes atualmente carregados no ambiente R com $\\textbf{search()}$"
   ]
  },
  {
   "cell_type": "code",
   "execution_count": 5,
   "metadata": {},
   "outputs": [
    {
     "data": {
      "text/html": [
       "<ol class=list-inline>\n",
       "\t<li>'.GlobalEnv'</li>\n",
       "\t<li>'jupyter:irkernel'</li>\n",
       "\t<li>'jupyter:irkernel'</li>\n",
       "\t<li>'package:stats'</li>\n",
       "\t<li>'package:graphics'</li>\n",
       "\t<li>'package:grDevices'</li>\n",
       "\t<li>'package:utils'</li>\n",
       "\t<li>'package:datasets'</li>\n",
       "\t<li>'package:methods'</li>\n",
       "\t<li>'Autoloads'</li>\n",
       "\t<li>'package:base'</li>\n",
       "</ol>\n"
      ],
      "text/latex": [
       "\\begin{enumerate*}\n",
       "\\item '.GlobalEnv'\n",
       "\\item 'jupyter:irkernel'\n",
       "\\item 'jupyter:irkernel'\n",
       "\\item 'package:stats'\n",
       "\\item 'package:graphics'\n",
       "\\item 'package:grDevices'\n",
       "\\item 'package:utils'\n",
       "\\item 'package:datasets'\n",
       "\\item 'package:methods'\n",
       "\\item 'Autoloads'\n",
       "\\item 'package:base'\n",
       "\\end{enumerate*}\n"
      ],
      "text/markdown": [
       "1. '.GlobalEnv'\n",
       "2. 'jupyter:irkernel'\n",
       "3. 'jupyter:irkernel'\n",
       "4. 'package:stats'\n",
       "5. 'package:graphics'\n",
       "6. 'package:grDevices'\n",
       "7. 'package:utils'\n",
       "8. 'package:datasets'\n",
       "9. 'package:methods'\n",
       "10. 'Autoloads'\n",
       "11. 'package:base'\n",
       "\n",
       "\n"
      ],
      "text/plain": [
       " [1] \".GlobalEnv\"        \"jupyter:irkernel\"  \"jupyter:irkernel\" \n",
       " [4] \"package:stats\"     \"package:graphics\"  \"package:grDevices\"\n",
       " [7] \"package:utils\"     \"package:datasets\"  \"package:methods\"  \n",
       "[10] \"Autoloads\"         \"package:base\"     "
      ]
     },
     "metadata": {},
     "output_type": "display_data"
    }
   ],
   "source": [
    "search()"
   ]
  },
  {
   "cell_type": "markdown",
   "metadata": {},
   "source": [
    "Quando executamos o código search(), ele produz o resultado acima, que pode variar de acordo com as configurações locais do seu PC também."
   ]
  },
  {
   "cell_type": "markdown",
   "metadata": {},
   "source": [
    "### Instalando pacotes:\n",
    "\n",
    "Existem duas maneiras de adicionar novos pacotes R: instalando diretamente do diretório CRAN e baixando o pacote para o seu sistema local e instalando-o manualmente."
   ]
  },
  {
   "cell_type": "markdown",
   "metadata": {},
   "source": [
    "- Instalando pacotes pelo CRAM:\n",
    "\n",
    "O comando a seguir obtém os pacotes diretamente da página da web do CRAN e instala o pacote no ambiente R. \n",
    "\n",
    "                                        install.packages(\"Package Name\")\n",
    " \n"
   ]
  },
  {
   "cell_type": "code",
   "execution_count": 9,
   "metadata": {},
   "outputs": [
    {
     "name": "stderr",
     "output_type": "stream",
     "text": [
      "Installing package into ‘/usr/local/lib/R/site-library’\n",
      "(as ‘lib’ is unspecified)\n",
      "Warning message in install.packages(\"XML\"):\n",
      "“'lib = \"/usr/local/lib/R/site-library\"' is not writable”"
     ]
    },
    {
     "ename": "ERROR",
     "evalue": "Error in install.packages(\"XML\"): unable to install packages\n",
     "output_type": "error",
     "traceback": [
      "Error in install.packages(\"XML\"): unable to install packages\nTraceback:\n",
      "1. install.packages(\"XML\")",
      "2. stop(\"unable to install packages\")"
     ]
    }
   ],
   "source": [
    "# Instalando o pacote \"XML\"\n",
    "install.packages(\"XML\")"
   ]
  },
  {
   "cell_type": "markdown",
   "metadata": {},
   "source": [
    "- Instalando o pacote manualmente:\n",
    "\n",
    "Vá para o link R Packages para fazer o download do pacote necessário. Salve o pacote como um arquivo .zip em um local adequado no sistema local.\n",
    "\n",
    "                          install.packages(file_name_with_path, repos = NULL, type = \"source\")"
   ]
  },
  {
   "cell_type": "code",
   "execution_count": 7,
   "metadata": {},
   "outputs": [
    {
     "name": "stderr",
     "output_type": "stream",
     "text": [
      "Installing package into ‘/usr/local/lib/R/site-library’\n",
      "(as ‘lib’ is unspecified)\n",
      "Warning message in install.packages(\"E:/XML_3.98-1.3.zip\", repos = NULL, type = \"source\"):\n",
      "“'lib = \"/usr/local/lib/R/site-library\"' is not writable”"
     ]
    },
    {
     "ename": "ERROR",
     "evalue": "Error in install.packages(\"E:/XML_3.98-1.3.zip\", repos = NULL, type = \"source\"): unable to install packages\n",
     "output_type": "error",
     "traceback": [
      "Error in install.packages(\"E:/XML_3.98-1.3.zip\", repos = NULL, type = \"source\"): unable to install packages\nTraceback:\n",
      "1. install.packages(\"E:/XML_3.98-1.3.zip\", repos = NULL, type = \"source\")",
      "2. stop(\"unable to install packages\")"
     ]
    }
   ],
   "source": [
    "# Instalando o pacote \"XML\"\n",
    "install.packages(\"E:/XML_3.98-1.3.zip\", repos = NULL, type = \"source\")"
   ]
  },
  {
   "cell_type": "markdown",
   "metadata": {},
   "source": [
    "### Carregando pacotes na Biblioteca\n",
    "\n",
    "\n",
    "Antes que um pacote possa ser usado no código, ele deve ser carregado no ambiente R atual. Você também precisa carregar um pacote que já foi instalado anteriormente, mas não está disponível no ambiente atual.\n",
    "            \n",
    "                            library(\"package Name\", lib.loc = \"path to library\")\n"
   ]
  },
  {
   "cell_type": "code",
   "execution_count": 10,
   "metadata": {},
   "outputs": [
    {
     "name": "stderr",
     "output_type": "stream",
     "text": [
      "Installing package into ‘/usr/local/lib/R/site-library’\n",
      "(as ‘lib’ is unspecified)\n",
      "Warning message in install.packages(\"E:/XML_3.98-1.3.zip\", repos = NULL, type = \"source\"):\n",
      "“'lib = \"/usr/local/lib/R/site-library\"' is not writable”"
     ]
    },
    {
     "ename": "ERROR",
     "evalue": "Error in install.packages(\"E:/XML_3.98-1.3.zip\", repos = NULL, type = \"source\"): unable to install packages\n",
     "output_type": "error",
     "traceback": [
      "Error in install.packages(\"E:/XML_3.98-1.3.zip\", repos = NULL, type = \"source\"): unable to install packages\nTraceback:\n",
      "1. install.packages(\"E:/XML_3.98-1.3.zip\", repos = NULL, type = \"source\")",
      "2. stop(\"unable to install packages\")"
     ]
    }
   ],
   "source": [
    "# Load the package named \"XML\"\n",
    "install.packages(\"E:/XML_3.98-1.3.zip\", repos = NULL, type = \"source\")"
   ]
  },
  {
   "cell_type": "code",
   "execution_count": null,
   "metadata": {},
   "outputs": [],
   "source": []
  }
 ],
 "metadata": {
  "kernelspec": {
   "display_name": "R",
   "language": "R",
   "name": "ir"
  },
  "language_info": {
   "codemirror_mode": "r",
   "file_extension": ".r",
   "mimetype": "text/x-r-source",
   "name": "R",
   "pygments_lexer": "r",
   "version": "3.2.3"
  }
 },
 "nbformat": 4,
 "nbformat_minor": 2
}
